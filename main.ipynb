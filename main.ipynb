{
 "cells": [
  {
   "cell_type": "markdown",
   "metadata": {},
   "source": [
    "In this notebook, we will run a ready-made network starting from some ATLAS data, which is already normalized. There is also an alternative to train the network from scratch.\n",
    "\n",
    "We will be making a autoencoder, that can be used to take out the noise from future data that we get from experiments"
   ]
  },
  {
   "cell_type": "code",
   "execution_count": 34,
   "metadata": {},
   "outputs": [
    {
     "name": "stdout",
     "output_type": "stream",
     "text": [
      "          E        pt       eta       phi\n",
      "0  5.412833  5.386811  0.065792  0.750047\n",
      "1  5.716080  5.035790 -0.449460 -0.618930\n",
      "2  5.583226  4.946480  0.429032 -0.652117\n",
      "3  4.596681  4.548575  0.094092 -0.388150\n",
      "4  5.353012  4.429400 -0.563216 -0.753127\n"
     ]
    },
    {
     "data": {
      "text/plain": [
       "E      float64\n",
       "pt     float64\n",
       "eta    float64\n",
       "phi    float64\n",
       "dtype: object"
      ]
     },
     "execution_count": 34,
     "metadata": {},
     "output_type": "execute_result"
    }
   ],
   "source": [
    "import pandas as pd\n",
    "import numpy as np\n",
    "# paths of file\n",
    "particles = pd.read_csv(\"./only_j.csv\")\n",
    "\n",
    "\n",
    "\n",
    "# we convert E and pt to log of their own values and divide eta by 5 and phi by 3\n",
    "# we are essentially normalising the values\n",
    "\n",
    "particles['E'] = np.log10(particles['E'])\n",
    "particles['pt'] = np.log10(particles['pt'])\n",
    "particles['eta'] /= 5\n",
    "particles['phi'] /= 3\n",
    "print(particles.head())\n",
    "particles.describe()\n",
    "particles.dtypes"
   ]
  },
  {
   "cell_type": "markdown",
   "metadata": {},
   "source": [
    "Now we plot the data using the matplotlib library. The units reflect the normalization, but it's the shape that we care about."
   ]
  },
  {
   "cell_type": "code",
   "execution_count": 80,
   "metadata": {},
   "outputs": [
    {
     "data": {
      "image/png": "[encoded data removed]",
      "text/plain": [
       "<Figure size 432x288 with 1 Axes>"
      ]
     },
     "metadata": {
      "needs_background": "light"
     },
     "output_type": "display_data"
    },
    {
     "data": {
      "image/png": "[encoded data removed]",
      "text/plain": [
       "<Figure size 432x288 with 1 Axes>"
      ]
     },
     "metadata": {
      "needs_background": "light"
     },
     "output_type": "display_data"
    },
    {
     "data": {
      "image/png": "[encoded data removed]",
      "text/plain": [
       "<Figure size 432x288 with 1 Axes>"
      ]
     },
     "metadata": {
      "needs_background": "light"
     },
     "output_type": "display_data"
    },
    {
     "data": {
      "image/png": "[encoded data removed]",
      "text/plain": [
       "<Figure size 432x288 with 1 Axes>"
      ]
     },
     "metadata": {
      "needs_background": "light"
     },
     "output_type": "display_data"
    }
   ],
   "source": [
    "import matplotlib.pyplot as plt\n",
    "\n",
    "unit_list = ['[log(GeV)]', '[rad/3]', '[rad/3]', '[log(GeV)]']\n",
    "variable_list = [r'$p_T$', r'$\\eta$', r'$\\phi$', r'$m$']\n",
    "\n",
    "branches=[\"pt\",\"eta\",\"phi\",\"E\"]\n",
    "\n",
    "n_bins = 100\n",
    "\n",
    "for kk in range(0,4):\n",
    "    n_hist_data, bin_edges, _ = plt.hist(particles[branches[kk]], color='orange', label='Input', alpha=1, bins=n_bins)\n",
    "    plt.xlabel(xlabel=variable_list[kk] + ' ' + unit_list[kk])\n",
    "    plt.ylabel('# of events')\n",
    "    plt.savefig(os.path.join(\"./\",test.columns[kk]+'_histo.png'))\n",
    "    plt.show()"
   ]
  },
  {
   "cell_type": "code",
   "execution_count": 81,
   "metadata": {},
   "outputs": [
    {
     "data": {
      "text/html": [
       "<div>\n",
       "<style scoped>\n",
       "    .dataframe tbody tr th:only-of-type {\n",
       "        vertical-align: middle;\n",
       "    }\n",
       "\n",
       "    .dataframe tbody tr th {\n",
       "        vertical-align: top;\n",
       "    }\n",
       "\n",
       "    .dataframe thead th {\n",
       "        text-align: right;\n",
       "    }\n",
       "</style>\n",
       "<table border=\"1\" class=\"dataframe\">\n",
       "  <thead>\n",
       "    <tr style=\"text-align: right;\">\n",
       "      <th></th>\n",
       "      <th>E</th>\n",
       "      <th>pt</th>\n",
       "      <th>eta</th>\n",
       "      <th>phi</th>\n",
       "    </tr>\n",
       "  </thead>\n",
       "  <tbody>\n",
       "    <tr>\n",
       "      <th>count</th>\n",
       "      <td>22661.000000</td>\n",
       "      <td>22661.000000</td>\n",
       "      <td>22661.000000</td>\n",
       "      <td>22661.000000</td>\n",
       "    </tr>\n",
       "    <tr>\n",
       "      <th>mean</th>\n",
       "      <td>5.426395</td>\n",
       "      <td>5.120674</td>\n",
       "      <td>0.002397</td>\n",
       "      <td>-0.004129</td>\n",
       "    </tr>\n",
       "    <tr>\n",
       "      <th>std</th>\n",
       "      <td>0.458973</td>\n",
       "      <td>0.491561</td>\n",
       "      <td>0.301223</td>\n",
       "      <td>0.603434</td>\n",
       "    </tr>\n",
       "    <tr>\n",
       "      <th>min</th>\n",
       "      <td>4.386959</td>\n",
       "      <td>4.344127</td>\n",
       "      <td>-0.974022</td>\n",
       "      <td>-1.047187</td>\n",
       "    </tr>\n",
       "    <tr>\n",
       "      <th>25%</th>\n",
       "      <td>5.072775</td>\n",
       "      <td>4.676166</td>\n",
       "      <td>-0.191035</td>\n",
       "      <td>-0.527590</td>\n",
       "    </tr>\n",
       "    <tr>\n",
       "      <th>50%</th>\n",
       "      <td>5.463921</td>\n",
       "      <td>5.085366</td>\n",
       "      <td>0.002718</td>\n",
       "      <td>-0.002397</td>\n",
       "    </tr>\n",
       "    <tr>\n",
       "      <th>75%</th>\n",
       "      <td>5.796803</td>\n",
       "      <td>5.561889</td>\n",
       "      <td>0.197654</td>\n",
       "      <td>0.514640</td>\n",
       "    </tr>\n",
       "    <tr>\n",
       "      <th>max</th>\n",
       "      <td>6.644801</td>\n",
       "      <td>6.320325</td>\n",
       "      <td>0.950616</td>\n",
       "      <td>1.047070</td>\n",
       "    </tr>\n",
       "  </tbody>\n",
       "</table>\n",
       "</div>"
      ],
      "text/plain": [
       "                  E            pt           eta           phi\n",
       "count  22661.000000  22661.000000  22661.000000  22661.000000\n",
       "mean       5.426395      5.120674      0.002397     -0.004129\n",
       "std        0.458973      0.491561      0.301223      0.603434\n",
       "min        4.386959      4.344127     -0.974022     -1.047187\n",
       "25%        5.072775      4.676166     -0.191035     -0.527590\n",
       "50%        5.463921      5.085366      0.002718     -0.002397\n",
       "75%        5.796803      5.561889      0.197654      0.514640\n",
       "max        6.644801      6.320325      0.950616      1.047070"
      ]
     },
     "execution_count": 81,
     "metadata": {},
     "output_type": "execute_result"
    }
   ],
   "source": [
    "particles.describe()"
   ]
  },
  {
   "cell_type": "code",
   "execution_count": 87,
   "metadata": {},
   "outputs": [
    {
     "data": {
      "image/png": "[encoded data removed]",
      "text/plain": [
       "<Figure size 432x288 with 1 Axes>"
      ]
     },
     "metadata": {
      "needs_background": "light"
     },
     "output_type": "display_data"
    }
   ],
   "source": [
    "plt.plot(particles['eta'],label = 'eta')\n",
    "plt.plot(particles['E'],label = 'E')\n",
    "# plt.scatter(particles['phi'],[i for i in range(0,22661)],label = 'phi')\n",
    "# plt.scatter(particles['pt'],[i for i in range(0,22661)],label = 'pt')\n",
    "plt.ylabel('values')\n",
    "plt.legend()\n",
    "plt.savefig(os.path.join(save_dir,'relation.png'))\n",
    "\n",
    "plt.show()"
   ]
  },
  {
   "cell_type": "code",
   "execution_count": 88,
   "metadata": {},
   "outputs": [
    {
     "data": {
      "image/png": "[encoded data removed]",
      "text/plain": [
       "<Figure size 432x288 with 1 Axes>"
      ]
     },
     "metadata": {
      "needs_background": "light"
     },
     "output_type": "display_data"
    }
   ],
   "source": [
    "plt.plot(particles['eta'],label = 'eta')\n",
    "plt.plot(particles['phi'],label = 'phi')\n",
    "# plt.scatter(particles['phi'],[i for i in range(0,22661)],label = 'phi')\n",
    "# plt.scatter(particles['pt'],[i for i in range(0,22661)],label = 'pt')\n",
    "plt.ylabel('values')\n",
    "plt.legend()\n",
    "plt.savefig(os.path.join(save_dir,'relation.png'))\n",
    "\n",
    "plt.show()"
   ]
  },
  {
   "cell_type": "markdown",
   "metadata": {},
   "source": [
    "These graphs seem useless, will stop trying there"
   ]
  },
  {
   "cell_type": "markdown",
   "metadata": {},
   "source": [
    "Now we spit this data in train and test sets"
   ]
  },
  {
   "cell_type": "code",
   "execution_count": 36,
   "metadata": {},
   "outputs": [],
   "source": [
    "from sklearn.model_selection import train_test_split\n",
    "\n",
    "train, test = train_test_split(particles, test_size=0.2)"
   ]
  },
  {
   "cell_type": "code",
   "execution_count": 37,
   "metadata": {},
   "outputs": [
    {
     "name": "stdout",
     "output_type": "stream",
     "text": [
      "              E        pt       eta       phi\n",
      "14047  5.688381  5.685574  0.009137 -0.258418\n",
      "5188   5.346592  5.233912  0.148280  0.676750\n",
      "12391  5.444669  5.225723 -0.214958  0.180151\n",
      "7616   5.054027  4.597704 -0.340948 -0.486267\n",
      "17847  5.205104  5.189653  0.043981  0.745963\n",
      "              E        pt       eta       phi\n",
      "17833  5.287215  5.281011 -0.003887  0.902723\n",
      "4146   5.144836  5.023236  0.154395 -0.718940\n",
      "14738  5.364650  4.738329 -0.423614 -0.927250\n",
      "12263  5.845324  5.843803  0.010902 -0.564193\n",
      "20824  6.240971  5.577462  0.441684 -0.294573\n",
      "E      float64\n",
      "pt     float64\n",
      "eta    float64\n",
      "phi    float64\n",
      "dtype: object\n"
     ]
    }
   ],
   "source": [
    "print(train.head())\n",
    "print(test.head())\n",
    "\n",
    "print(train.dtypes)"
   ]
  },
  {
   "cell_type": "markdown",
   "metadata": {},
   "source": [
    "Now we do the same plotting for the train dataset"
   ]
  },
  {
   "cell_type": "code",
   "execution_count": 38,
   "metadata": {},
   "outputs": [
    {
     "data": {
      "image/png": "[encoded data removed]",
      "text/plain": [
       "<Figure size 432x288 with 1 Axes>"
      ]
     },
     "metadata": {
      "needs_background": "light"
     },
     "output_type": "display_data"
    },
    {
     "data": {
      "image/png": "[encoded data removed]",
      "text/plain": [
       "<Figure size 432x288 with 1 Axes>"
      ]
     },
     "metadata": {
      "needs_background": "light"
     },
     "output_type": "display_data"
    },
    {
     "data": {
      "image/png": "[encoded data removed]",
      "text/plain": [
       "<Figure size 432x288 with 1 Axes>"
      ]
     },
     "metadata": {
      "needs_background": "light"
     },
     "output_type": "display_data"
    },
    {
     "data": {
      "image/png": "[encoded data removed]",
      "text/plain": [
       "<Figure size 432x288 with 1 Axes>"
      ]
     },
     "metadata": {
      "needs_background": "light"
     },
     "output_type": "display_data"
    }
   ],
   "source": [
    "unit_list = ['[log(GeV)]', '[rad/3]', '[rad/3]', '[log(GeV)]']\n",
    "variable_list = [r'$p_T$', r'$\\eta$', r'$\\phi$', r'$m$']\n",
    "\n",
    "branches=[\"pt\",\"eta\",\"phi\",\"E\"]\n",
    "\n",
    "n_bins = 100\n",
    "\n",
    "for kk in range(0,4):\n",
    "    n_hist_data, bin_edges, _ = plt.hist(train[branches[kk]], color='orange', label='Input', alpha=1, bins=n_bins)\n",
    "    plt.xlabel(xlabel=variable_list[kk] + ' ' + unit_list[kk])\n",
    "    plt.ylabel('# of events')\n",
    "    #plt.savefig(\"fourmomentum_\"+branches[kk],dpi=300)\n",
    "    plt.show()"
   ]
  },
  {
   "cell_type": "markdown",
   "metadata": {},
   "source": [
    "# Setting up the Network\n",
    "\n",
    "## Preparing the data\n",
    "\n",
    "Adding the two datasets as TensorDatasets to PyTorch (also loading all other classes we'll need later)"
   ]
  },
  {
   "cell_type": "code",
   "execution_count": 39,
   "metadata": {},
   "outputs": [],
   "source": [
    "import torch\n",
    "import torch.nn as nn\n",
    "import torch.optim as optim\n",
    "import torch.utils.data\n",
    "from torch.autograd import Variable\n",
    "\n",
    "from torch.utils.data import TensorDataset\n",
    "from torch.utils.data import DataLoader\n",
    "\n",
    "from fastai import learner\n",
    "from fastai.data import core\n",
    "\n",
    "train_x = train\n",
    "test_x = test\n",
    "train_y = train_x  # y = x since we are building an autoencoder\n",
    "test_y = test_x\n",
    "\n",
    "# Constructs a tensor object of the data and wraps them in a TensorDataset object.\n",
    "train_ds = TensorDataset(torch.tensor(train_x.values, dtype=torch.float), torch.tensor(train_y.values, dtype=torch.float))\n",
    "valid_ds = TensorDataset(torch.tensor(test_x.values, dtype=torch.float), torch.tensor(test_y.values, dtype=torch.float))"
   ]
  },
  {
   "cell_type": "markdown",
   "metadata": {},
   "source": [
    "We now set things up to load the data, and we use a batch size that was optimized by previous students...note also that this is fastai v2, migration thanks to Jessica Lastow.\n",
    "\n"
   ]
  },
  {
   "cell_type": "code",
   "execution_count": 40,
   "metadata": {},
   "outputs": [],
   "source": [
    "bs = 256\n",
    "\n",
    "# Converts the TensorDataset into a DataLoader object and combines into one DataLoaders object (a basic wrapper\n",
    "# around several DataLoader objects). \n",
    "train_dl = DataLoader(train_ds, batch_size=bs, shuffle=True)\n",
    "valid_dl = DataLoader(valid_ds, batch_size=bs * 2)\n",
    "dls = core.DataLoaders(train_dl, valid_dl)"
   ]
  },
  {
   "cell_type": "markdown",
   "metadata": {},
   "source": [
    "## Preparing the network\n",
    "\n",
    "Here we have an example network. Details aren't too important, as long as they match what was already trained for us...in this case we have a LeakyReLU, tanh activation function, and a number of layers that goes from 4 to 200 to 20 to 3 (number of features in the hidden layer that we pick for testing compression) and then back all the way to 4."
   ]
  },
  {
   "cell_type": "code",
   "execution_count": 41,
   "metadata": {},
   "outputs": [
    {
     "data": {
      "text/plain": [
       "AE_3D_200_LeakyReLU(\n",
       "  (en1): Linear(in_features=4, out_features=200, bias=True)\n",
       "  (en2): Linear(in_features=200, out_features=200, bias=True)\n",
       "  (en3): Linear(in_features=200, out_features=20, bias=True)\n",
       "  (en4): Linear(in_features=20, out_features=3, bias=True)\n",
       "  (de1): Linear(in_features=3, out_features=20, bias=True)\n",
       "  (de2): Linear(in_features=20, out_features=200, bias=True)\n",
       "  (de3): Linear(in_features=200, out_features=200, bias=True)\n",
       "  (de4): Linear(in_features=200, out_features=4, bias=True)\n",
       "  (tanh): Tanh()\n",
       ")"
      ]
     },
     "execution_count": 41,
     "metadata": {},
     "output_type": "execute_result"
    }
   ],
   "source": [
    "class AE_3D_200_LeakyReLU(nn.Module):\n",
    "    def __init__(self, n_features=4):\n",
    "        super(AE_3D_200_LeakyReLU, self).__init__()\n",
    "        self.en1 = nn.Linear(n_features, 200)\n",
    "        self.en2 = nn.Linear(200, 200)\n",
    "        self.en3 = nn.Linear(200, 20)\n",
    "        self.en4 = nn.Linear(20, 3)\n",
    "        self.de1 = nn.Linear(3, 20)\n",
    "        self.de2 = nn.Linear(20, 200)\n",
    "        self.de3 = nn.Linear(200, 200)\n",
    "        self.de4 = nn.Linear(200, n_features)\n",
    "        self.tanh = nn.Tanh()\n",
    "\n",
    "    def encode(self, x):\n",
    "        return self.en4(self.tanh(self.en3(self.tanh(self.en2(self.tanh(self.en1(x)))))))\n",
    "\n",
    "    def decode(self, x):\n",
    "        return self.de4(self.tanh(self.de3(self.tanh(self.de2(self.tanh(self.de1(self.tanh(x))))))))\n",
    "\n",
    "    def forward(self, x):\n",
    "        z = self.encode(x)\n",
    "        return self.decode(z)\n",
    "\n",
    "    def describe(self):\n",
    "        return 'in-200-200-20-3-20-200-200-out'\n",
    "\n",
    "#model = AE_3D_200_LeakyReLU().double()\n",
    "model = AE_3D_200_LeakyReLU()\n",
    "model.to('cpu')"
   ]
  },
  {
   "cell_type": "markdown",
   "metadata": {},
   "source": [
    "We now have to pick a loss function - MSE loss is appropriate for a compression autoencoder since it reflects the [(input-output)/input] physical quantity that we want to minimize."
   ]
  },
  {
   "cell_type": "code",
   "execution_count": 42,
   "metadata": {},
   "outputs": [],
   "source": [
    "from fastai.metrics import mse\n",
    "# from fastai import basic_train\n",
    "loss_func = nn.MSELoss()\n",
    "\n",
    "#bn_wd = False  # Don't use weight decay for batchnorm layers\n",
    "#true_wd = True  # weight decay will be used for all optimizers\n",
    "wd = 1e-6\n",
    "\n",
    "recorder = learner.Recorder()\n",
    "learn = learner.Learner(dls, model=model, wd=wd, loss_func=loss_func, cbs=recorder)\n",
    "# learn = basic_train.Learner(data=db, model=model, loss_func=loss_func, wd=wd, callback_fns=ActivationStats, bn_wd=bn_wd, true_wd=true_wd)"
   ]
  },
  {
   "cell_type": "markdown",
   "metadata": {},
   "source": [
    "## 1: Training a network\n"
   ]
  },
  {
   "cell_type": "markdown",
   "metadata": {},
   "source": [
    "First, we want to find the best learning rate. The learning rate is a hyper-paramater that sets how much the weights of the network will change each step with respect to the loss gradient.\n",
    "\n",
    "Then we plot the loss versus the learning rates. We're interested in finding a good order of magnitude of learning rate, so we plot with a log scale.\n",
    "\n",
    "A good value for the learning rates is then either:\n",
    "\n",
    "- one tenth of the minimum before the divergence\n",
    "- when the slope is the steepest"
   ]
  },
  {
   "cell_type": "code",
   "execution_count": 43,
   "metadata": {},
   "outputs": [
    {
     "name": "stdout",
     "output_type": "stream",
     "text": [
      "Learning rate with the minimum loss: 0.014454397559165954\n",
      "Learning rate with the steepest gradient: 0.0020892962347716093\n"
     ]
    },
    {
     "data": {
      "image/png": "[encoded data removed]",
      "text/plain": [
       "<Figure size 432x288 with 1 Axes>"
      ]
     },
     "metadata": {
      "needs_background": "light"
     },
     "output_type": "display_data"
    }
   ],
   "source": [
    "from fastai.callback import schedule\n",
    "\n",
    "lr_min, lr_steep = learn.lr_find()\n",
    "\n",
    "print('Learning rate with the minimum loss:', lr_min)\n",
    "print('Learning rate with the steepest gradient:', lr_steep)"
   ]
  },
  {
   "cell_type": "markdown",
   "metadata": {},
   "source": [
    "Now we want to run the training!\n",
    "\n",
    "User-chosen variables:\n",
    "\n",
    "- n_epoch: The number of epochs, i.e how many times the to run through all of the training data once (i.e the 1266046 entries, see cell 2)\n",
    "- lr: The learning rate. Either choose lr_min, lr_steep from above or set your own."
   ]
  },
  {
   "cell_type": "markdown",
   "metadata": {},
   "source": [
    "**First we run with the parameters that were originally chosen**"
   ]
  },
  {
   "cell_type": "code",
   "execution_count": 44,
   "metadata": {},
   "outputs": [
    {
     "name": "stdout",
     "output_type": "stream",
     "text": [
      "[0, 12.093400955200195, 10.396276473999023, '00:03']\n",
      "[0, 12.093400955200195, 10.396276473999023, '00:03']\n",
      "[1, 8.291048049926758, 5.32736873626709, '00:03']\n",
      "[1, 8.291048049926758, 5.32736873626709, '00:03']\n",
      "[2, 3.8575291633605957, 1.1348927021026611, '00:03']\n",
      "[2, 3.8575291633605957, 1.1348927021026611, '00:03']\n",
      "[3, 1.205035924911499, 0.22886228561401367, '00:03']\n",
      "[3, 1.205035924911499, 0.22886228561401367, '00:03']\n",
      "[4, 0.45943084359169006, 0.22726692259311676, '00:04']\n",
      "[4, 0.45943084359169006, 0.22726692259311676, '00:04']\n",
      "[5, 0.2816913425922394, 0.22711293399333954, '00:04']\n",
      "[5, 0.2816913425922394, 0.22711293399333954, '00:04']\n",
      "[6, 0.23960284888744354, 0.2270520180463791, '00:04']\n",
      "[6, 0.23960284888744354, 0.2270520180463791, '00:04']\n",
      "[7, 0.22884877026081085, 0.2267708033323288, '00:03']\n",
      "[7, 0.22884877026081085, 0.2267708033323288, '00:03']\n",
      "[8, 0.218939408659935, 0.19607867300510406, '00:03']\n",
      "[8, 0.218939408659935, 0.19607867300510406, '00:03']\n",
      "[9, 0.13366632163524628, 0.051656775176525116, '00:05']\n",
      "[9, 0.13366632163524628, 0.051656775176525116, '00:05']\n",
      "[10, 0.06221974641084671, 0.037150707095861435, '00:03']\n",
      "[10, 0.06221974641084671, 0.037150707095861435, '00:03']\n",
      "[11, 0.042869843542575836, 0.03704116493463516, '00:04']\n",
      "[11, 0.042869843542575836, 0.03704116493463516, '00:04']\n",
      "[12, 0.03215170279145241, 0.02275247871875763, '00:05']\n",
      "[12, 0.03215170279145241, 0.02275247871875763, '00:05']\n",
      "[13, 0.022136183455586433, 0.016380133107304573, '00:05']\n",
      "[13, 0.022136183455586433, 0.016380133107304573, '00:05']\n",
      "[14, 0.018122488632798195, 0.014052135869860649, '00:07']\n",
      "[14, 0.018122488632798195, 0.014052135869860649, '00:07']\n",
      "[15, 0.01593063585460186, 0.016024384647607803, '00:05']\n",
      "[15, 0.01593063585460186, 0.016024384647607803, '00:05']\n",
      "[16, 0.012846712954342365, 0.0071762073785066605, '00:05']\n",
      "[16, 0.012846712954342365, 0.0071762073785066605, '00:05']\n",
      "[17, 0.005794585682451725, 0.0014208470238372684, '00:04']\n",
      "[17, 0.005794585682451725, 0.0014208470238372684, '00:04']\n",
      "[18, 0.004106058273464441, 0.0016971315490081906, '00:06']\n",
      "[18, 0.004106058273464441, 0.0016971315490081906, '00:06']\n",
      "[19, 0.003931379411369562, 0.001214300747960806, '00:08']\n",
      "[19, 0.003931379411369562, 0.001214300747960806, '00:08']\n",
      "[20, 0.0029475016053766012, 0.0005441798130050302, '00:05']\n",
      "[20, 0.0029475016053766012, 0.0005441798130050302, '00:05']\n",
      "[21, 0.0032513230107724667, 0.006573745049536228, '00:06']\n",
      "[21, 0.0032513230107724667, 0.006573745049536228, '00:06']\n",
      "[22, 0.0027997195720672607, 0.0005316181341186166, '00:03']\n",
      "[22, 0.0027997195720672607, 0.0005316181341186166, '00:03']\n",
      "[23, 0.0029668391216546297, 0.0009961476316675544, '00:03']\n",
      "[23, 0.0029668391216546297, 0.0009961476316675544, '00:03']\n",
      "[24, 0.0031789459753781557, 0.0005800435901619494, '00:07']\n",
      "[24, 0.0031789459753781557, 0.0005800435901619494, '00:07']\n",
      "[25, 0.0020299109164625406, 0.013158125802874565, '00:09']\n",
      "[25, 0.0020299109164625406, 0.013158125802874565, '00:09']\n",
      "[26, 0.0022583866957575083, 0.0028781588189303875, '00:06']\n",
      "[26, 0.0022583866957575083, 0.0028781588189303875, '00:06']\n",
      "[27, 0.0022384654730558395, 0.004009068477898836, '00:04']\n",
      "[27, 0.0022384654730558395, 0.004009068477898836, '00:04']\n",
      "[28, 0.0025193451438099146, 0.000871549709700048, '00:04']\n",
      "[28, 0.0025193451438099146, 0.000871549709700048, '00:04']\n",
      "[29, 0.0019258144311606884, 0.0008845456759445369, '00:05']\n",
      "[29, 0.0019258144311606884, 0.0008845456759445369, '00:05']\n",
      "[30, 0.0020965393632650375, 0.0011171945370733738, '00:04']\n",
      "[30, 0.0020965393632650375, 0.0011171945370733738, '00:04']\n",
      "[31, 0.0016681422712281346, 0.001601334661245346, '00:04']\n",
      "[31, 0.0016681422712281346, 0.001601334661245346, '00:04']\n",
      "[32, 0.002547977492213249, 0.001165982917882502, '00:05']\n",
      "[32, 0.002547977492213249, 0.001165982917882502, '00:05']\n",
      "[33, 0.001591222477145493, 0.0030311744194477797, '00:04']\n",
      "[33, 0.001591222477145493, 0.0030311744194477797, '00:04']\n",
      "[34, 0.0013772952370345592, 0.00020395206229295582, '00:05']\n",
      "[34, 0.0013772952370345592, 0.00020395206229295582, '00:05']\n",
      "[35, 0.0015940370503813028, 0.0013934180606156588, '00:04']\n",
      "[35, 0.0015940370503813028, 0.0013934180606156588, '00:04']\n",
      "[36, 0.0013889953261241317, 0.00046617648331448436, '00:03']\n",
      "[36, 0.0013889953261241317, 0.00046617648331448436, '00:03']\n",
      "[37, 0.0013935869792476296, 0.000809923920314759, '00:03']\n",
      "[37, 0.0013935869792476296, 0.000809923920314759, '00:03']\n",
      "[38, 0.0010918434709310532, 0.000323625688906759, '00:06']\n",
      "[38, 0.0010918434709310532, 0.000323625688906759, '00:06']\n",
      "[39, 0.0013471422716975212, 0.0016276934184134007, '00:04']\n",
      "[39, 0.0013471422716975212, 0.0016276934184134007, '00:04']\n",
      "[40, 0.0014070150209590793, 0.0008679426973685622, '00:03']\n",
      "[40, 0.0014070150209590793, 0.0008679426973685622, '00:03']\n",
      "[41, 0.0008216954884119332, 0.00030997020076029, '00:03']\n",
      "[41, 0.0008216954884119332, 0.00030997020076029, '00:03']\n",
      "[42, 0.0009081180323846638, 0.000256331026321277, '00:03']\n",
      "[42, 0.0009081180323846638, 0.000256331026321277, '00:03']\n",
      "[43, 0.000996702117845416, 0.0010707670589908957, '00:03']\n",
      "[43, 0.000996702117845416, 0.0010707670589908957, '00:03']\n",
      "[44, 0.0007640514522790909, 0.0008390388102270663, '00:03']\n",
      "[44, 0.0007640514522790909, 0.0008390388102270663, '00:03']\n",
      "[45, 0.000741310534067452, 0.00022606657876167446, '00:03']\n",
      "[45, 0.000741310534067452, 0.00022606657876167446, '00:03']\n",
      "[46, 0.0007174295606091619, 0.0004336617130320519, '00:03']\n",
      "[46, 0.0007174295606091619, 0.0004336617130320519, '00:03']\n",
      "[47, 0.0005472167395055294, 0.00035976976505480707, '00:03']\n",
      "[47, 0.0005472167395055294, 0.00035976976505480707, '00:03']\n",
      "[48, 0.0006727997097186744, 0.00043209613068029284, '00:03']\n",
      "[48, 0.0006727997097186744, 0.00043209613068029284, '00:03']\n",
      "[49, 0.0005521813873201609, 0.00021564985217992216, '00:03']\n",
      "[49, 0.0005521813873201609, 0.00021564985217992216, '00:03']\n",
      "[50, 0.000406019069487229, 0.0003700072120409459, '00:02']\n",
      "[50, 0.000406019069487229, 0.0003700072120409459, '00:02']\n",
      "[51, 0.00038893375312909484, 0.0002437995426589623, '00:03']\n",
      "[51, 0.00038893375312909484, 0.0002437995426589623, '00:03']\n",
      "[52, 0.0003988996904809028, 0.0006196029135026038, '00:03']\n",
      "[52, 0.0003988996904809028, 0.0006196029135026038, '00:03']\n",
      "[53, 0.0006663533858954906, 7.5725038186647e-05, '00:03']\n",
      "[53, 0.0006663533858954906, 7.5725038186647e-05, '00:03']\n",
      "[54, 0.0003063126059714705, 0.00076449871994555, '00:04']\n",
      "[54, 0.0003063126059714705, 0.00076449871994555, '00:04']\n",
      "[55, 0.00032593842479400337, 5.645542114507407e-05, '00:03']\n",
      "[55, 0.00032593842479400337, 5.645542114507407e-05, '00:03']\n",
      "[56, 0.00037816152325831354, 0.0001845567749114707, '00:03']\n",
      "[56, 0.00037816152325831354, 0.0001845567749114707, '00:03']\n",
      "[57, 0.00030866824090480804, 0.0007416504085995257, '00:03']\n",
      "[57, 0.00030866824090480804, 0.0007416504085995257, '00:03']\n",
      "[58, 0.00024809816386550665, 0.000244732218561694, '00:02']\n",
      "[58, 0.00024809816386550665, 0.000244732218561694, '00:02']\n",
      "[59, 0.00017993053188547492, 0.00033281571813859046, '00:03']\n",
      "[59, 0.00017993053188547492, 0.00033281571813859046, '00:03']\n",
      "[60, 0.00015086740313563496, 0.00012685575347859412, '00:03']\n",
      "[60, 0.00015086740313563496, 0.00012685575347859412, '00:03']\n",
      "[61, 0.00013565221161115915, 0.0001589012099429965, '00:03']\n",
      "[61, 0.00013565221161115915, 0.0001589012099429965, '00:03']\n",
      "[62, 0.00012737000361084938, 0.000503544753883034, '00:03']\n",
      "[62, 0.00012737000361084938, 0.000503544753883034, '00:03']\n",
      "[63, 0.00012883871386293322, 0.0002652438124641776, '00:03']\n",
      "[63, 0.00012883871386293322, 0.0002652438124641776, '00:03']\n",
      "[64, 9.123059862758964e-05, 0.00023597235849592835, '00:02']\n",
      "[64, 9.123059862758964e-05, 0.00023597235849592835, '00:02']\n",
      "[65, 9.92251661955379e-05, 8.74951365403831e-05, '00:03']\n",
      "[65, 9.92251661955379e-05, 8.74951365403831e-05, '00:03']\n",
      "[66, 8.0955280282069e-05, 3.354658474563621e-05, '00:03']\n",
      "[66, 8.0955280282069e-05, 3.354658474563621e-05, '00:03']\n",
      "[67, 6.349902832880616e-05, 0.00029148533940315247, '00:03']\n",
      "[67, 6.349902832880616e-05, 0.00029148533940315247, '00:03']\n",
      "[68, 6.129650137154385e-05, 5.547247201320715e-05, '00:04']\n",
      "[68, 6.129650137154385e-05, 5.547247201320715e-05, '00:04']\n",
      "[69, 5.851844252902083e-05, 2.1161256881896406e-05, '00:03']\n",
      "[69, 5.851844252902083e-05, 2.1161256881896406e-05, '00:03']\n"
     ]
    },
    {
     "name": "stdout",
     "output_type": "stream",
     "text": [
      "[70, 5.235836579231545e-05, 2.2139922293717973e-05, '00:03']\n",
      "[70, 5.235836579231545e-05, 2.2139922293717973e-05, '00:03']\n",
      "[71, 4.013322541140951e-05, 4.3012983951484784e-05, '00:06']\n",
      "[71, 4.013322541140951e-05, 4.3012983951484784e-05, '00:06']\n",
      "[72, 3.298385490779765e-05, 2.606147972983308e-05, '00:07']\n",
      "[72, 3.298385490779765e-05, 2.606147972983308e-05, '00:07']\n",
      "[73, 3.653109524748288e-05, 1.907285513880197e-05, '00:03']\n",
      "[73, 3.653109524748288e-05, 1.907285513880197e-05, '00:03']\n",
      "[74, 3.115706203971058e-05, 1.8072856619255617e-05, '00:04']\n",
      "[74, 3.115706203971058e-05, 1.8072856619255617e-05, '00:04']\n",
      "[75, 2.4334458430530503e-05, 1.3322601262188982e-05, '00:03']\n",
      "[75, 2.4334458430530503e-05, 1.3322601262188982e-05, '00:03']\n",
      "[76, 2.232968654425349e-05, 1.648313264013268e-05, '00:03']\n",
      "[76, 2.232968654425349e-05, 1.648313264013268e-05, '00:03']\n",
      "[77, 2.1866633687750436e-05, 1.709469870547764e-05, '00:04']\n",
      "[77, 2.1866633687750436e-05, 1.709469870547764e-05, '00:04']\n",
      "[78, 1.6774152754805982e-05, 1.4044699128135107e-05, '00:07']\n",
      "[78, 1.6774152754805982e-05, 1.4044699128135107e-05, '00:07']\n",
      "[79, 1.577128750795964e-05, 1.1967252248723526e-05, '00:05']\n",
      "[79, 1.577128750795964e-05, 1.1967252248723526e-05, '00:05']\n",
      "[80, 1.596938818693161e-05, 1.4202370039129164e-05, '00:03']\n",
      "[80, 1.596938818693161e-05, 1.4202370039129164e-05, '00:03']\n",
      "[81, 1.4114111763774417e-05, 1.2382763998175506e-05, '00:03']\n",
      "[81, 1.4114111763774417e-05, 1.2382763998175506e-05, '00:03']\n",
      "[82, 1.2146727385697886e-05, 1.0264482625643723e-05, '00:03']\n",
      "[82, 1.2146727385697886e-05, 1.0264482625643723e-05, '00:03']\n",
      "[83, 1.1523628018039744e-05, 1.4323742107080761e-05, '00:03']\n",
      "[83, 1.1523628018039744e-05, 1.4323742107080761e-05, '00:03']\n",
      "[84, 1.0993810974468943e-05, 1.2353350030025467e-05, '00:03']\n",
      "[84, 1.0993810974468943e-05, 1.2353350030025467e-05, '00:03']\n",
      "[85, 1.0200992619502358e-05, 1.0040403140010312e-05, '00:04']\n",
      "[85, 1.0200992619502358e-05, 1.0040403140010312e-05, '00:04']\n",
      "[86, 9.514387784292921e-06, 9.17707529879408e-06, '00:03']\n",
      "[86, 9.514387784292921e-06, 9.17707529879408e-06, '00:03']\n",
      "[87, 9.090654202736914e-06, 9.847370165516622e-06, '00:03']\n",
      "[87, 9.090654202736914e-06, 9.847370165516622e-06, '00:03']\n",
      "[88, 9.188236617774237e-06, 1.1439445188443642e-05, '00:03']\n",
      "[88, 9.188236617774237e-06, 1.1439445188443642e-05, '00:03']\n",
      "[89, 9.093781955016311e-06, 8.944774890551344e-06, '00:03']\n",
      "[89, 9.093781955016311e-06, 8.944774890551344e-06, '00:03']\n",
      "[90, 8.667499059811234e-06, 8.659716513648164e-06, '00:03']\n",
      "[90, 8.667499059811234e-06, 8.659716513648164e-06, '00:03']\n",
      "[91, 8.340921340277418e-06, 8.58766998135252e-06, '00:03']\n",
      "[91, 8.340921340277418e-06, 8.58766998135252e-06, '00:03']\n",
      "[92, 8.255613465735223e-06, 8.626840099168476e-06, '00:03']\n",
      "[92, 8.255613465735223e-06, 8.626840099168476e-06, '00:03']\n",
      "[93, 8.155157047440298e-06, 8.25584811536828e-06, '00:03']\n",
      "[93, 8.155157047440298e-06, 8.25584811536828e-06, '00:03']\n",
      "[94, 7.991449820110574e-06, 8.23276332084788e-06, '00:03']\n",
      "[94, 7.991449820110574e-06, 8.23276332084788e-06, '00:03']\n",
      "[95, 7.863110113248695e-06, 8.142311344272457e-06, '00:03']\n",
      "[95, 7.863110113248695e-06, 8.142311344272457e-06, '00:03']\n",
      "[96, 7.733032362011727e-06, 8.170851288014092e-06, '00:03']\n",
      "[96, 7.733032362011727e-06, 8.170851288014092e-06, '00:03']\n",
      "[97, 7.598108823003713e-06, 8.06791376817273e-06, '00:03']\n",
      "[97, 7.598108823003713e-06, 8.06791376817273e-06, '00:03']\n",
      "[98, 7.582899343105964e-06, 8.041206456255168e-06, '00:03']\n",
      "[98, 7.582899343105964e-06, 8.041206456255168e-06, '00:03']\n",
      "[99, 7.605266546306666e-06, 8.041291948757134e-06, '00:03']\n",
      "[99, 7.605266546306666e-06, 8.041291948757134e-06, '00:03']\n",
      "Training took 414.0167702409999 seconds\n"
     ]
    }
   ],
   "source": [
    "import time\n",
    "\n",
    "start = time.perf_counter() # Starts timer\n",
    "learn.fit_one_cycle(n_epoch=100)\n",
    "end = time.perf_counter() # Ends timer\n",
    "delta_t = end - start\n",
    "print('Training took', delta_t, 'seconds')"
   ]
  },
  {
   "cell_type": "code",
   "execution_count": 45,
   "metadata": {},
   "outputs": [
    {
     "data": {
      "image/png": "[encoded data removed]",
      "text/plain": [
       "<Figure size 432x288 with 1 Axes>"
      ]
     },
     "metadata": {
      "needs_background": "light"
     },
     "output_type": "display_data"
    }
   ],
   "source": [
    "recorder.plot_loss()"
   ]
  },
  {
   "cell_type": "code",
   "execution_count": 46,
   "metadata": {},
   "outputs": [
    {
     "data": {
      "text/plain": [
       "(#1) [8.041291948757134e-06]"
      ]
     },
     "execution_count": 46,
     "metadata": {},
     "output_type": "execute_result"
    }
   ],
   "source": [
    "learn.validate()\n"
   ]
  },
  {
   "cell_type": "markdown",
   "metadata": {},
   "source": [
    "# Making some plots\n",
    "here we make some plots to hopefully gain some insights"
   ]
  },
  {
   "cell_type": "markdown",
   "metadata": {},
   "source": [
    "First we plot a histogram telling us the number of times our model predicted certain values oof the paramaters, and compair it to a histogram of the actual values from the data"
   ]
  },
  {
   "cell_type": "code",
   "execution_count": 61,
   "metadata": {},
   "outputs": [
    {
     "data": {
      "image/png": "[encoded data removed]",
      "text/plain": [
       "<Figure size 432x288 with 1 Axes>"
      ]
     },
     "metadata": {
      "needs_background": "light"
     },
     "output_type": "display_data"
    },
    {
     "data": {
      "image/png": "[encoded data removed]",
      "text/plain": [
       "<Figure size 432x288 with 1 Axes>"
      ]
     },
     "metadata": {
      "needs_background": "light"
     },
     "output_type": "display_data"
    },
    {
     "data": {
      "image/png": "[encoded data removed]",
      "text/plain": [
       "<Figure size 432x288 with 1 Axes>"
      ]
     },
     "metadata": {
      "needs_background": "light"
     },
     "output_type": "display_data"
    },
    {
     "data": {
      "image/png": "[encoded data removed]",
      "text/plain": [
       "<Figure size 432x288 with 1 Axes>"
      ]
     },
     "metadata": {
      "needs_background": "light"
     },
     "output_type": "display_data"
    }
   ],
   "source": [
    "import os\n",
    "# remember how we initially 'normalised\" the values? we can unnormalise them using this function if we wanna\n",
    "def custom_unnormalize(df):\n",
    "    df['eta'] = df['eta'] * 5\n",
    "    df['phi'] = df['phi'] * 3\n",
    "    #df['E'] = 10**df['E']\n",
    "    df['E'] = 10**df['E']\n",
    "    df['pt'] = 10**(df['pt'])\n",
    "    return df\n",
    "\n",
    "plt.close('all')\n",
    "unit_list = ['[GeV]', '[rad]', '[rad]', '[GeV]']\n",
    "variable_list = [r'$E$' , r'$p_T$', r'$\\eta$', r'$\\phi$', ]\n",
    "line_style = ['--', '-']\n",
    "colors = ['orange', 'c']\n",
    "markers = ['*', 's']\n",
    "\n",
    "model.to('cpu')\n",
    "\n",
    "save = True # Option to save figure\n",
    "save_dir = './'\n",
    "# Histograms\n",
    "idxs = (0, 100000)  # Choose events to compare\n",
    "data = torch.tensor(test[idxs[0]:idxs[1]].values, dtype=torch.float)\n",
    "#data = torch.tensor(test[idxs[0]:idxs[1]].values, dtype=torch.float).double()\n",
    "pred = model(data)\n",
    "pred = pred.detach().numpy()\n",
    "data = data.detach().numpy()\n",
    "\n",
    "data_df = pd.DataFrame(data, columns=test.columns)\n",
    "pred_df = pd.DataFrame(pred, columns=test.columns)\n",
    "\n",
    "unnormalized_data_df = custom_unnormalize(data_df)\n",
    "unnormalized_pred_df = custom_unnormalize(pred_df)    \n",
    "    \n",
    "alph = 0.8\n",
    "n_bins = 200\n",
    "for kk in np.arange(4):\n",
    "    plt.figure()\n",
    "    n_hist_data, bin_edges, _ = plt.hist(data[:, kk], color=colors[1], label='Input', alpha=1, bins=n_bins)\n",
    "    n_hist_pred, _, _ = plt.hist(pred[:, kk], color=colors[0], label='Output', alpha=alph, bins=bin_edges)\n",
    "    plt.suptitle(test.columns[kk])\n",
    "    plt.xlabel(test.columns[kk])\n",
    "    plt.ylabel('Number of events')\n",
    "    # ms.sciy()\n",
    "    plt.yscale('log')\n",
    "    if save:\n",
    "        plt.savefig(os.path.join(save_dir,test.columns[kk]+'_comparison.png'))\n",
    "    plt.legend()"
   ]
  },
  {
   "cell_type": "markdown",
   "metadata": {},
   "source": [
    "Now we plot a histogram that tells us the frequency of the differences we obtain between the actual value and predicted value"
   ]
  },
  {
   "cell_type": "code",
   "execution_count": 62,
   "metadata": {},
   "outputs": [
    {
     "data": {
      "image/png": "[encoded data removed]",
      "text/plain": [
       "<Figure size 432x288 with 1 Axes>"
      ]
     },
     "metadata": {
      "needs_background": "light"
     },
     "output_type": "display_data"
    },
    {
     "data": {
      "image/png": "[encoded data removed]",
      "text/plain": [
       "<Figure size 432x288 with 1 Axes>"
      ]
     },
     "metadata": {
      "needs_background": "light"
     },
     "output_type": "display_data"
    },
    {
     "data": {
      "image/png": "[encoded data removed]",
      "text/plain": [
       "<Figure size 432x288 with 1 Axes>"
      ]
     },
     "metadata": {
      "needs_background": "light"
     },
     "output_type": "display_data"
    },
    {
     "data": {
      "image/png": "[encoded data removed]",
      "text/plain": [
       "<Figure size 432x288 with 1 Axes>"
      ]
     },
     "metadata": {
      "needs_background": "light"
     },
     "output_type": "display_data"
    }
   ],
   "source": [
    "for kk in np.arange(4):\n",
    "    plt.figure()\n",
    "    n_hist_data, bin_edges, _ = plt.hist(abs(data[:, kk] - pred[:, kk]), color=colors[1], label='Input', alpha=1, bins=n_bins)\n",
    "#     n_hist_pred, _, _ = plt.hist(pred[:, kk], color=colors[0], label='Output', alpha=alph, bins=bin_edges)\n",
    "    plt.suptitle(test.columns[kk])\n",
    "    plt.xlabel(test.columns[kk])\n",
    "    plt.ylabel('Number of events')\n",
    "    # ms.sciy()\n",
    "    plt.yscale('log')\n",
    "    if save:\n",
    "        plt.savefig(os.path.join(save_dir,test.columns[kk]+'_diff.png'))\n",
    "    plt.legend()"
   ]
  },
  {
   "cell_type": "markdown",
   "metadata": {},
   "source": [
    "The rest of the plots tell us the difference between actual value and predicted value, index wise through the data."
   ]
  },
  {
   "cell_type": "code",
   "execution_count": 63,
   "metadata": {},
   "outputs": [
    {
     "data": {
      "image/png": "[encoded data removed]",
      "text/plain": [
       "<Figure size 432x288 with 1 Axes>"
      ]
     },
     "metadata": {
      "needs_background": "light"
     },
     "output_type": "display_data"
    },
    {
     "data": {
      "text/plain": [
       "<Figure size 432x288 with 0 Axes>"
      ]
     },
     "metadata": {},
     "output_type": "display_data"
    }
   ],
   "source": [
    "plt.plot(unnormalized_data_df['E'] - unnormalized_pred_df['E'])\n",
    "plt.ylabel('difference between actual values and predicted value')\n",
    "plt.xlabel('E')\n",
    "plt.show()\n",
    "plt.savefig(os.path.join(save_dir,'E_real_diff.png'))"
   ]
  },
  {
   "cell_type": "code",
   "execution_count": 64,
   "metadata": {},
   "outputs": [
    {
     "data": {
      "image/png": "[encoded data removed]",
      "text/plain": [
       "<Figure size 432x288 with 1 Axes>"
      ]
     },
     "metadata": {
      "needs_background": "light"
     },
     "output_type": "display_data"
    }
   ],
   "source": [
    "plt.plot(unnormalized_data_df['pt'] - unnormalized_pred_df['pt'])\n",
    "plt.ylabel('difference between actual values and predicted value')\n",
    "plt.xlabel('pt')\n",
    "plt.savefig(os.path.join(save_dir,'pt_real_diff.png'))\n",
    "plt.show()"
   ]
  },
  {
   "cell_type": "code",
   "execution_count": 65,
   "metadata": {},
   "outputs": [
    {
     "data": {
      "image/png": "[encoded data removed]",
      "text/plain": [
       "<Figure size 432x288 with 1 Axes>"
      ]
     },
     "metadata": {
      "needs_background": "light"
     },
     "output_type": "display_data"
    }
   ],
   "source": [
    "plt.plot(unnormalized_data_df['eta'] - unnormalized_pred_df['eta'])\n",
    "plt.ylabel('difference between actual values and predicted value')\n",
    "plt.xlabel('eta')\n",
    "plt.savefig(os.path.join(save_dir,'eta_real_diff.png'))\n",
    "plt.show()"
   ]
  },
  {
   "cell_type": "code",
   "execution_count": 66,
   "metadata": {},
   "outputs": [
    {
     "data": {
      "image/png": "[encoded data removed]",
      "text/plain": [
       "<Figure size 432x288 with 1 Axes>"
      ]
     },
     "metadata": {
      "needs_background": "light"
     },
     "output_type": "display_data"
    }
   ],
   "source": [
    "plt.plot(unnormalized_data_df['phi'] - unnormalized_pred_df['phi'])\n",
    "plt.ylabel('difference between actual values and predicted value')\n",
    "plt.xlabel('phi')\n",
    "plt.savefig(os.path.join(save_dir,'phi_real_diff.png'))\n",
    "plt.show()"
   ]
  },
  {
   "cell_type": "markdown",
   "metadata": {},
   "source": [
    "# Trying other models and looking at their losses\n"
   ]
  },
  {
   "cell_type": "markdown",
   "metadata": {},
   "source": [
    "We try first by increasing epochs. If the MSE increases, then we are overfitting and should reduce the numebr oof epochs"
   ]
  },
  {
   "cell_type": "code",
   "execution_count": 67,
   "metadata": {},
   "outputs": [
    {
     "name": "stdout",
     "output_type": "stream",
     "text": [
      "[0, 9.227371265296824e-06, 8.240082024713047e-06, '00:04']\n",
      "[0, 9.227371265296824e-06, 8.240082024713047e-06, '00:04']\n",
      "[1, 8.344048183062114e-06, 9.52993559621973e-06, '00:04']\n",
      "[1, 8.344048183062114e-06, 9.52993559621973e-06, '00:04']\n",
      "[2, 8.506299309374299e-06, 9.479043910687324e-06, '00:04']\n",
      "[2, 8.506299309374299e-06, 9.479043910687324e-06, '00:04']\n",
      "[3, 8.88508657226339e-06, 8.189271284209099e-06, '00:04']\n",
      "[3, 8.88508657226339e-06, 8.189271284209099e-06, '00:04']\n",
      "[4, 8.048431482166052e-06, 8.077256097749341e-06, '00:04']\n",
      "[4, 8.048431482166052e-06, 8.077256097749341e-06, '00:04']\n",
      "[5, 8.723724022274837e-06, 8.440998499281704e-06, '00:04']\n",
      "[5, 8.723724022274837e-06, 8.440998499281704e-06, '00:04']\n",
      "[6, 8.62542128743371e-06, 1.2785147191607393e-05, '00:03']\n",
      "[6, 8.62542128743371e-06, 1.2785147191607393e-05, '00:03']\n",
      "[7, 9.427375516679604e-06, 1.2116717698518187e-05, '00:03']\n",
      "[7, 9.427375516679604e-06, 1.2116717698518187e-05, '00:03']\n",
      "[8, 9.451224286749493e-06, 1.1657019058475271e-05, '00:03']\n",
      "[8, 9.451224286749493e-06, 1.1657019058475271e-05, '00:03']\n",
      "[9, 1.0501772521820385e-05, 8.384554348594975e-06, '00:03']\n",
      "[9, 1.0501772521820385e-05, 8.384554348594975e-06, '00:03']\n",
      "[10, 1.3629374734591693e-05, 1.3595933523902204e-05, '00:03']\n",
      "[10, 1.3629374734591693e-05, 1.3595933523902204e-05, '00:03']\n",
      "[11, 1.3611432223115116e-05, 7.89227124187164e-06, '00:03']\n",
      "[11, 1.3611432223115116e-05, 7.89227124187164e-06, '00:03']\n",
      "[12, 1.8741691746981815e-05, 4.223070209263824e-05, '00:03']\n",
      "[12, 1.8741691746981815e-05, 4.223070209263824e-05, '00:03']\n",
      "[13, 2.1418803953565657e-05, 1.9280896594864316e-05, '00:03']\n",
      "[13, 2.1418803953565657e-05, 1.9280896594864316e-05, '00:03']\n",
      "[14, 4.043704393552616e-05, 1.8973400074173696e-05, '00:03']\n",
      "[14, 4.043704393552616e-05, 1.8973400074173696e-05, '00:03']\n",
      "[15, 3.0432618586928584e-05, 3.4731281630229205e-05, '00:03']\n",
      "[15, 3.0432618586928584e-05, 3.4731281630229205e-05, '00:03']\n",
      "[16, 3.3185257052537054e-05, 3.008304520335514e-05, '00:03']\n",
      "[16, 3.3185257052537054e-05, 3.008304520335514e-05, '00:03']\n",
      "[17, 7.040423224680126e-05, 5.233334013610147e-05, '00:03']\n",
      "[17, 7.040423224680126e-05, 5.233334013610147e-05, '00:03']\n",
      "[18, 4.4837470341008157e-05, 0.00030050514033064246, '00:03']\n",
      "[18, 4.4837470341008157e-05, 0.00030050514033064246, '00:03']\n",
      "[19, 6.413068331312388e-05, 1.7661273886915296e-05, '00:03']\n",
      "[19, 6.413068331312388e-05, 1.7661273886915296e-05, '00:03']\n",
      "[20, 9.230963041773066e-05, 4.62418029201217e-05, '00:04']\n",
      "[20, 9.230963041773066e-05, 4.62418029201217e-05, '00:04']\n",
      "[21, 9.263284300686792e-05, 1.9203680494683795e-05, '00:05']\n",
      "[21, 9.263284300686792e-05, 1.9203680494683795e-05, '00:05']\n",
      "[22, 0.00010552578169154003, 2.0319053874118254e-05, '00:03']\n",
      "[22, 0.00010552578169154003, 2.0319053874118254e-05, '00:03']\n",
      "[23, 0.00013575123739428818, 2.7556226996239275e-05, '00:03']\n",
      "[23, 0.00013575123739428818, 2.7556226996239275e-05, '00:03']\n",
      "[24, 0.00018345967691857368, 0.0001910608116304502, '00:04']\n",
      "[24, 0.00018345967691857368, 0.0001910608116304502, '00:04']\n",
      "[25, 0.00026021801750175655, 5.385353506426327e-05, '00:03']\n",
      "[25, 0.00026021801750175655, 5.385353506426327e-05, '00:03']\n",
      "[26, 0.00023478278308175504, 0.0004881955683231354, '00:04']\n",
      "[26, 0.00023478278308175504, 0.0004881955683231354, '00:04']\n",
      "[27, 0.0002384379768045619, 0.0001504048123024404, '00:05']\n",
      "[27, 0.0002384379768045619, 0.0001504048123024404, '00:05']\n",
      "[28, 0.0003259414224885404, 4.6940247557358816e-05, '00:05']\n",
      "[28, 0.0003259414224885404, 4.6940247557358816e-05, '00:05']\n",
      "[29, 0.0002754639135673642, 0.0008908965392038226, '00:04']\n",
      "[29, 0.0002754639135673642, 0.0008908965392038226, '00:04']\n",
      "[30, 0.00038216428947634995, 0.00029802200151607394, '00:03']\n",
      "[30, 0.00038216428947634995, 0.00029802200151607394, '00:03']\n",
      "[31, 0.0004840504261665046, 0.0001436638121958822, '00:03']\n",
      "[31, 0.0004840504261665046, 0.0001436638121958822, '00:03']\n",
      "[32, 0.00042072442010976374, 0.0002935059601441026, '00:04']\n",
      "[32, 0.00042072442010976374, 0.0002935059601441026, '00:04']\n",
      "[33, 0.00040647442801855505, 7.848786481190473e-05, '00:03']\n",
      "[33, 0.00040647442801855505, 7.848786481190473e-05, '00:03']\n",
      "[34, 0.0007257352699525654, 0.000721550255548209, '00:03']\n",
      "[34, 0.0007257352699525654, 0.000721550255548209, '00:03']\n",
      "[35, 0.0006306259892880917, 0.001403173664584756, '00:03']\n",
      "[35, 0.0006306259892880917, 0.001403173664584756, '00:03']\n",
      "[36, 0.0006501436000689864, 0.0007943008095026016, '00:03']\n",
      "[36, 0.0006501436000689864, 0.0007943008095026016, '00:03']\n",
      "[37, 0.0005856362404301763, 3.0654846341349185e-05, '00:03']\n",
      "[37, 0.0005856362404301763, 3.0654846341349185e-05, '00:03']\n",
      "[38, 0.000641646736767143, 2.501505150576122e-05, '00:03']\n",
      "[38, 0.000641646736767143, 2.501505150576122e-05, '00:03']\n",
      "[39, 0.0006293576443567872, 0.00023116271768230945, '00:03']\n",
      "[39, 0.0006293576443567872, 0.00023116271768230945, '00:03']\n",
      "[40, 0.0013497692998498678, 0.0009055056725628674, '00:04']\n",
      "[40, 0.0013497692998498678, 0.0009055056725628674, '00:04']\n",
      "[41, 0.0008806196274235845, 0.0020513334311544895, '00:03']\n",
      "[41, 0.0008806196274235845, 0.0020513334311544895, '00:03']\n",
      "[42, 0.0009407588513568044, 0.00026416737819090486, '00:03']\n",
      "[42, 0.0009407588513568044, 0.00026416737819090486, '00:03']\n",
      "[43, 0.0008968490292318165, 0.00020104448776692152, '00:03']\n",
      "[43, 0.0008968490292318165, 0.00020104448776692152, '00:03']\n",
      "[44, 0.0008287327364087105, 0.001013932516798377, '00:03']\n",
      "[44, 0.0008287327364087105, 0.001013932516798377, '00:03']\n",
      "[45, 0.0010718745179474354, 0.0011752261780202389, '00:03']\n",
      "[45, 0.0010718745179474354, 0.0011752261780202389, '00:03']\n",
      "[46, 0.001155726844444871, 0.0003261262027081102, '00:03']\n",
      "[46, 0.001155726844444871, 0.0003261262027081102, '00:03']\n",
      "[47, 0.0008189166546799242, 0.00012357236118987203, '00:04']\n",
      "[47, 0.0008189166546799242, 0.00012357236118987203, '00:04']\n",
      "[48, 0.0010784452315419912, 0.0002887460286729038, '00:03']\n",
      "[48, 0.0010784452315419912, 0.0002887460286729038, '00:03']\n",
      "[49, 0.0008657849393785, 0.0003851699293591082, '00:03']\n",
      "[49, 0.0008657849393785, 0.0003851699293591082, '00:03']\n",
      "[50, 0.0013536977348849177, 0.0003259985242038965, '00:03']\n",
      "[50, 0.0013536977348849177, 0.0003259985242038965, '00:03']\n",
      "[51, 0.0009306118008680642, 0.0008826752309687436, '00:03']\n",
      "[51, 0.0009306118008680642, 0.0008826752309687436, '00:03']\n",
      "[52, 0.0011178976856172085, 0.0013840809697285295, '00:03']\n",
      "[52, 0.0011178976856172085, 0.0013840809697285295, '00:03']\n",
      "[53, 0.0006930452072992921, 0.0011628303909674287, '00:03']\n",
      "[53, 0.0006930452072992921, 0.0011628303909674287, '00:03']\n",
      "[54, 0.000781690760049969, 0.0006158353644423187, '00:03']\n",
      "[54, 0.000781690760049969, 0.0006158353644423187, '00:03']\n",
      "[55, 0.0007733583333902061, 0.0003381327842362225, '00:03']\n",
      "[55, 0.0007733583333902061, 0.0003381327842362225, '00:03']\n",
      "[56, 0.0012448428897187114, 0.0012552764965221286, '00:04']\n",
      "[56, 0.0012448428897187114, 0.0012552764965221286, '00:04']\n",
      "[57, 0.0007730474462732673, 0.0007241189014166594, '00:03']\n",
      "[57, 0.0007730474462732673, 0.0007241189014166594, '00:03']\n",
      "[58, 0.0008061949629336596, 0.00010065302922157571, '00:03']\n",
      "[58, 0.0008061949629336596, 0.00010065302922157571, '00:03']\n",
      "[59, 0.0008144641760736704, 0.0007234007935039699, '00:03']\n",
      "[59, 0.0008144641760736704, 0.0007234007935039699, '00:03']\n",
      "[60, 0.0006728777661919594, 0.0001028467231662944, '00:05']\n",
      "[60, 0.0006728777661919594, 0.0001028467231662944, '00:05']\n",
      "[61, 0.0008616299601271749, 8.453380723949522e-05, '00:03']\n",
      "[61, 0.0008616299601271749, 8.453380723949522e-05, '00:03']\n",
      "[62, 0.0006363680586218834, 6.128635868662968e-05, '00:03']\n",
      "[62, 0.0006363680586218834, 6.128635868662968e-05, '00:03']\n",
      "[63, 0.0005797363701276481, 8.067955786827952e-05, '00:03']\n",
      "[63, 0.0005797363701276481, 8.067955786827952e-05, '00:03']\n",
      "[64, 0.0007743035675957799, 0.0002432505862088874, '00:03']\n",
      "[64, 0.0007743035675957799, 0.0002432505862088874, '00:03']\n",
      "[65, 0.0005624582408927381, 0.0011879121884703636, '00:03']\n",
      "[65, 0.0005624582408927381, 0.0011879121884703636, '00:03']\n",
      "[66, 0.0006277639768086374, 5.307740866555832e-05, '00:03']\n",
      "[66, 0.0006277639768086374, 5.307740866555832e-05, '00:03']\n",
      "[67, 0.0005854894989170134, 0.0005769389681518078, '00:03']\n",
      "[67, 0.0005854894989170134, 0.0005769389681518078, '00:03']\n",
      "[68, 0.0009474181570112705, 0.0005459904205054045, '00:03']\n",
      "[68, 0.0009474181570112705, 0.0005459904205054045, '00:03']\n"
     ]
    },
    {
     "name": "stdout",
     "output_type": "stream",
     "text": [
      "[69, 0.0006082413019612432, 0.0002155049005523324, '00:03']\n",
      "[69, 0.0006082413019612432, 0.0002155049005523324, '00:03']\n",
      "[70, 0.000706896127667278, 0.0012627249816432595, '00:02']\n",
      "[70, 0.000706896127667278, 0.0012627249816432595, '00:02']\n",
      "[71, 0.0006484054028987885, 0.00013828837836626917, '00:02']\n",
      "[71, 0.0006484054028987885, 0.00013828837836626917, '00:02']\n",
      "[72, 0.0006292892503552139, 8.346043614437804e-05, '00:02']\n",
      "[72, 0.0006292892503552139, 8.346043614437804e-05, '00:02']\n",
      "[73, 0.00046608332195319235, 4.8867961595533416e-05, '00:02']\n",
      "[73, 0.00046608332195319235, 4.8867961595533416e-05, '00:02']\n",
      "[74, 0.0005171876400709152, 0.0004502472002059221, '00:02']\n",
      "[74, 0.0005171876400709152, 0.0004502472002059221, '00:02']\n",
      "[75, 0.0004626736626960337, 0.0008593382663093507, '00:02']\n",
      "[75, 0.0004626736626960337, 0.0008593382663093507, '00:02']\n",
      "[76, 0.00048636889550834894, 0.003485494526103139, '00:02']\n",
      "[76, 0.00048636889550834894, 0.003485494526103139, '00:02']\n",
      "[77, 0.0006918024155311286, 0.0006998535827733576, '00:02']\n",
      "[77, 0.0006918024155311286, 0.0006998535827733576, '00:02']\n",
      "[78, 0.00047471668221987784, 0.000392427493352443, '00:02']\n",
      "[78, 0.00047471668221987784, 0.000392427493352443, '00:02']\n",
      "[79, 0.0005846407148055732, 0.0015558443265035748, '00:02']\n",
      "[79, 0.0005846407148055732, 0.0015558443265035748, '00:02']\n",
      "[80, 0.000613017997238785, 0.0002031650219578296, '00:02']\n",
      "[80, 0.000613017997238785, 0.0002031650219578296, '00:02']\n",
      "[81, 0.00040073113632388413, 0.0004682570870500058, '00:02']\n",
      "[81, 0.00040073113632388413, 0.0004682570870500058, '00:02']\n",
      "[82, 0.000430676038376987, 0.00030200168839655817, '00:02']\n",
      "[82, 0.000430676038376987, 0.00030200168839655817, '00:02']\n",
      "[83, 0.000517434673383832, 0.00021436526731122285, '00:02']\n",
      "[83, 0.000517434673383832, 0.00021436526731122285, '00:02']\n",
      "[84, 0.000544289592653513, 0.0003166079695802182, '00:02']\n",
      "[84, 0.000544289592653513, 0.0003166079695802182, '00:02']\n",
      "[85, 0.00046024261973798275, 0.001443517510779202, '00:02']\n",
      "[85, 0.00046024261973798275, 0.001443517510779202, '00:02']\n",
      "[86, 0.0003594506997615099, 0.00019684313156176358, '00:02']\n",
      "[86, 0.0003594506997615099, 0.00019684313156176358, '00:02']\n",
      "[87, 0.00035378802567720413, 0.001413616118952632, '00:02']\n",
      "[87, 0.00035378802567720413, 0.001413616118952632, '00:02']\n",
      "[88, 0.0004408761451486498, 9.429587225895375e-05, '00:02']\n",
      "[88, 0.0004408761451486498, 9.429587225895375e-05, '00:02']\n",
      "[89, 0.0004966169944964349, 7.340318552451208e-05, '00:05']\n",
      "[89, 0.0004966169944964349, 7.340318552451208e-05, '00:05']\n",
      "[90, 0.0004102904349565506, 0.0002049809554591775, '00:03']\n",
      "[90, 0.0004102904349565506, 0.0002049809554591775, '00:03']\n",
      "[91, 0.0002817066269926727, 0.00014130411727819592, '00:03']\n",
      "[91, 0.0002817066269926727, 0.00014130411727819592, '00:03']\n",
      "[92, 0.000342630926752463, 0.001246670843102038, '00:06']\n",
      "[92, 0.000342630926752463, 0.001246670843102038, '00:06']\n",
      "[93, 0.0004131007881369442, 0.00028615459450520575, '00:04']\n",
      "[93, 0.0004131007881369442, 0.00028615459450520575, '00:04']\n",
      "[94, 0.0002645782951731235, 0.00010855854634428397, '00:06']\n",
      "[94, 0.0002645782951731235, 0.00010855854634428397, '00:06']\n",
      "[95, 0.00024319614749401808, 0.000993784866295755, '00:06']\n",
      "[95, 0.00024319614749401808, 0.000993784866295755, '00:06']\n",
      "[96, 0.00033228594111278653, 0.00046797108370810747, '00:06']\n",
      "[96, 0.00033228594111278653, 0.00046797108370810747, '00:06']\n",
      "[97, 0.0003301558317616582, 6.433857197407633e-05, '00:03']\n",
      "[97, 0.0003301558317616582, 6.433857197407633e-05, '00:03']\n",
      "[98, 0.0002577157865744084, 0.00031410829978995025, '00:05']\n",
      "[98, 0.0002577157865744084, 0.00031410829978995025, '00:05']\n",
      "[99, 0.000253797770710662, 5.360850627766922e-05, '00:03']\n",
      "[99, 0.000253797770710662, 5.360850627766922e-05, '00:03']\n",
      "[100, 0.00021490181097760797, 3.1295483495341614e-05, '00:03']\n",
      "[100, 0.00021490181097760797, 3.1295483495341614e-05, '00:03']\n",
      "[101, 0.0001901400537462905, 2.3643175154575147e-05, '00:04']\n",
      "[101, 0.0001901400537462905, 2.3643175154575147e-05, '00:04']\n",
      "[102, 0.00024715601466596127, 5.253520066617057e-05, '00:06']\n",
      "[102, 0.00024715601466596127, 5.253520066617057e-05, '00:06']\n",
      "[103, 0.00019189677550457418, 0.000226299132918939, '00:03']\n",
      "[103, 0.00019189677550457418, 0.000226299132918939, '00:03']\n",
      "[104, 0.00018366846779827029, 0.0001978607615455985, '00:02']\n",
      "[104, 0.00018366846779827029, 0.0001978607615455985, '00:02']\n",
      "[105, 0.00020470011804718524, 0.0016304776072502136, '00:02']\n",
      "[105, 0.00020470011804718524, 0.0016304776072502136, '00:02']\n",
      "[106, 0.00012916444393340498, 0.0003059258160647005, '00:02']\n",
      "[106, 0.00012916444393340498, 0.0003059258160647005, '00:02']\n",
      "[107, 0.00015887871268205345, 5.520917329704389e-05, '00:02']\n",
      "[107, 0.00015887871268205345, 5.520917329704389e-05, '00:02']\n",
      "[108, 0.0001423139765392989, 0.00017368959379382432, '00:03']\n",
      "[108, 0.0001423139765392989, 0.00017368959379382432, '00:03']\n",
      "[109, 0.00020677210704889148, 0.00013048158143647015, '00:02']\n",
      "[109, 0.00020677210704889148, 0.00013048158143647015, '00:02']\n",
      "[110, 0.0001206802116939798, 0.0002678784658201039, '00:06']\n",
      "[110, 0.0001206802116939798, 0.0002678784658201039, '00:06']\n",
      "[111, 0.00015151567640714347, 8.187151252059266e-05, '00:08']\n",
      "[111, 0.00015151567640714347, 8.187151252059266e-05, '00:08']\n",
      "[112, 0.00011257293954258785, 0.00016364437760785222, '00:06']\n",
      "[112, 0.00011257293954258785, 0.00016364437760785222, '00:06']\n",
      "[113, 0.0001324115291936323, 9.092666005017236e-05, '00:03']\n",
      "[113, 0.0001324115291936323, 9.092666005017236e-05, '00:03']\n",
      "[114, 0.0001030083149089478, 9.596815652912483e-05, '00:04']\n",
      "[114, 0.0001030083149089478, 9.596815652912483e-05, '00:04']\n",
      "[115, 0.00010673897486412898, 4.545608317130245e-05, '00:06']\n",
      "[115, 0.00010673897486412898, 4.545608317130245e-05, '00:06']\n",
      "[116, 9.196680184686556e-05, 0.0005613304674625397, '00:06']\n",
      "[116, 9.196680184686556e-05, 0.0005613304674625397, '00:06']\n",
      "[117, 0.00010287843906553462, 0.00024151486286427826, '00:06']\n",
      "[117, 0.00010287843906553462, 0.00024151486286427826, '00:06']\n",
      "[118, 0.0001293602545047179, 0.00011562614963622764, '00:03']\n",
      "[118, 0.0001293602545047179, 0.00011562614963622764, '00:03']\n",
      "[119, 0.00017153145745396614, 0.00045828658039681613, '00:04']\n",
      "[119, 0.00017153145745396614, 0.00045828658039681613, '00:04']\n",
      "[120, 8.091310883173719e-05, 6.942761683603749e-05, '00:05']\n",
      "[120, 8.091310883173719e-05, 6.942761683603749e-05, '00:05']\n",
      "[121, 9.613375004846603e-05, 5.996364780003205e-05, '00:03']\n",
      "[121, 9.613375004846603e-05, 5.996364780003205e-05, '00:03']\n",
      "[122, 8.253084524767473e-05, 6.72591122565791e-05, '00:04']\n",
      "[122, 8.253084524767473e-05, 6.72591122565791e-05, '00:04']\n",
      "[123, 7.272880611708388e-05, 5.261636761133559e-05, '00:04']\n",
      "[123, 7.272880611708388e-05, 5.261636761133559e-05, '00:04']\n",
      "[124, 6.611249409615993e-05, 2.457025220792275e-05, '00:05']\n",
      "[124, 6.611249409615993e-05, 2.457025220792275e-05, '00:05']\n",
      "[125, 6.378826219588518e-05, 6.34631869615987e-05, '00:03']\n",
      "[125, 6.378826219588518e-05, 6.34631869615987e-05, '00:03']\n",
      "[126, 5.801816223538481e-05, 2.3826214601285756e-05, '00:04']\n",
      "[126, 5.801816223538481e-05, 2.3826214601285756e-05, '00:04']\n",
      "[127, 4.549232835415751e-05, 0.00014761141210328788, '00:03']\n",
      "[127, 4.549232835415751e-05, 0.00014761141210328788, '00:03']\n",
      "[128, 5.451982724480331e-05, 3.409749479033053e-05, '00:03']\n",
      "[128, 5.451982724480331e-05, 3.409749479033053e-05, '00:03']\n",
      "[129, 6.076123463572003e-05, 5.0233633373863995e-05, '00:05']\n",
      "[129, 6.076123463572003e-05, 5.0233633373863995e-05, '00:05']\n",
      "[130, 8.47145784064196e-05, 4.349423761595972e-05, '00:06']\n",
      "[130, 8.47145784064196e-05, 4.349423761595972e-05, '00:06']\n",
      "[131, 4.283497037249617e-05, 1.6154286640812643e-05, '00:04']\n",
      "[131, 4.283497037249617e-05, 1.6154286640812643e-05, '00:04']\n",
      "[132, 5.404303738032468e-05, 3.3879281545523554e-05, '00:08']\n",
      "[132, 5.404303738032468e-05, 3.3879281545523554e-05, '00:08']\n",
      "[133, 3.3230877306777984e-05, 2.8182868845760822e-05, '00:05']\n",
      "[133, 3.3230877306777984e-05, 2.8182868845760822e-05, '00:05']\n",
      "[134, 6.541041511809453e-05, 1.9146913473377936e-05, '00:04']\n",
      "[134, 6.541041511809453e-05, 1.9146913473377936e-05, '00:04']\n",
      "[135, 2.8896251023979858e-05, 4.387957596918568e-05, '00:04']\n",
      "[135, 2.8896251023979858e-05, 4.387957596918568e-05, '00:04']\n",
      "[136, 3.452025703154504e-05, 1.3618114280689042e-05, '00:04']\n",
      "[136, 3.452025703154504e-05, 1.3618114280689042e-05, '00:04']\n"
     ]
    },
    {
     "name": "stdout",
     "output_type": "stream",
     "text": [
      "[137, 3.049625229323283e-05, 4.020704727736302e-05, '00:04']\n",
      "[137, 3.049625229323283e-05, 4.020704727736302e-05, '00:04']\n",
      "[138, 2.6101924959220923e-05, 3.430185097386129e-05, '00:03']\n",
      "[138, 2.6101924959220923e-05, 3.430185097386129e-05, '00:03']\n",
      "[139, 2.7318010324961506e-05, 2.9420973078231327e-05, '00:04']\n",
      "[139, 2.7318010324961506e-05, 2.9420973078231327e-05, '00:04']\n",
      "[140, 2.4048335035331547e-05, 2.1346128050936386e-05, '00:03']\n",
      "[140, 2.4048335035331547e-05, 2.1346128050936386e-05, '00:03']\n",
      "[141, 1.907649311760906e-05, 1.91706985788187e-05, '00:04']\n",
      "[141, 1.907649311760906e-05, 1.91706985788187e-05, '00:04']\n",
      "[142, 3.4750893973978236e-05, 2.1320038285921328e-05, '00:05']\n",
      "[142, 3.4750893973978236e-05, 2.1320038285921328e-05, '00:05']\n",
      "[143, 1.6044388758018613e-05, 8.97379777597962e-06, '00:03']\n",
      "[143, 1.6044388758018613e-05, 8.97379777597962e-06, '00:03']\n",
      "[144, 1.821212026698049e-05, 1.4398647181224078e-05, '00:03']\n",
      "[144, 1.821212026698049e-05, 1.4398647181224078e-05, '00:03']\n",
      "[145, 2.372189010202419e-05, 2.389668588875793e-05, '00:03']\n",
      "[145, 2.372189010202419e-05, 2.389668588875793e-05, '00:03']\n",
      "[146, 1.275274007639382e-05, 1.531726047687698e-05, '00:04']\n",
      "[146, 1.275274007639382e-05, 1.531726047687698e-05, '00:04']\n",
      "[147, 1.38049235829385e-05, 1.0122053026861977e-05, '00:02']\n",
      "[147, 1.38049235829385e-05, 1.0122053026861977e-05, '00:02']\n",
      "[148, 1.1447047654655762e-05, 1.0101372026838362e-05, '00:03']\n",
      "[148, 1.1447047654655762e-05, 1.0101372026838362e-05, '00:03']\n",
      "[149, 1.2956194950675126e-05, 1.6317331755999476e-05, '00:02']\n",
      "[149, 1.2956194950675126e-05, 1.6317331755999476e-05, '00:02']\n",
      "[150, 1.291446551476838e-05, 9.187677278532647e-06, '00:04']\n",
      "[150, 1.291446551476838e-05, 9.187677278532647e-06, '00:04']\n",
      "[151, 1.0581990864011459e-05, 6.969461082917405e-06, '00:07']\n",
      "[151, 1.0581990864011459e-05, 6.969461082917405e-06, '00:07']\n",
      "[152, 1.290083491767291e-05, 8.068961506069172e-06, '00:03']\n",
      "[152, 1.290083491767291e-05, 8.068961506069172e-06, '00:03']\n",
      "[153, 1.0235831723548472e-05, 8.576413165428676e-06, '00:03']\n",
      "[153, 1.0235831723548472e-05, 8.576413165428676e-06, '00:03']\n",
      "[154, 8.520847586623859e-06, 7.660316441615578e-06, '00:02']\n",
      "[154, 8.520847586623859e-06, 7.660316441615578e-06, '00:02']\n",
      "[155, 8.246541256085038e-06, 6.543027666339185e-06, '00:02']\n",
      "[155, 8.246541256085038e-06, 6.543027666339185e-06, '00:02']\n",
      "[156, 9.732518265082035e-06, 1.2388833056320436e-05, '00:02']\n",
      "[156, 9.732518265082035e-06, 1.2388833056320436e-05, '00:02']\n",
      "[157, 7.383516731351847e-06, 5.223063908488257e-06, '00:02']\n",
      "[157, 7.383516731351847e-06, 5.223063908488257e-06, '00:02']\n",
      "[158, 8.017144864425063e-06, 8.091592462733388e-06, '00:02']\n",
      "[158, 8.017144864425063e-06, 8.091592462733388e-06, '00:02']\n",
      "[159, 7.59923068471835e-06, 1.1184059076185804e-05, '00:03']\n",
      "[159, 7.59923068471835e-06, 1.1184059076185804e-05, '00:03']\n",
      "[160, 6.9048505793034565e-06, 5.488549049914582e-06, '00:02']\n",
      "[160, 6.9048505793034565e-06, 5.488549049914582e-06, '00:02']\n",
      "[161, 7.555577212770004e-06, 5.7268143791588955e-06, '00:02']\n",
      "[161, 7.555577212770004e-06, 5.7268143791588955e-06, '00:02']\n",
      "[162, 7.041570825094823e-06, 7.4614654295146465e-06, '00:02']\n",
      "[162, 7.041570825094823e-06, 7.4614654295146465e-06, '00:02']\n",
      "[163, 6.17731438978808e-06, 4.946052740706364e-06, '00:02']\n",
      "[163, 6.17731438978808e-06, 4.946052740706364e-06, '00:02']\n",
      "[164, 6.418146313080797e-06, 4.854388407693477e-06, '00:02']\n",
      "[164, 6.418146313080797e-06, 4.854388407693477e-06, '00:02']\n",
      "[165, 5.479572791955434e-06, 5.664353011525236e-06, '00:02']\n",
      "[165, 5.479572791955434e-06, 5.664353011525236e-06, '00:02']\n",
      "[166, 5.371640781959286e-06, 5.636472906189738e-06, '00:02']\n",
      "[166, 5.371640781959286e-06, 5.636472906189738e-06, '00:02']\n",
      "[167, 5.475770649354672e-06, 4.577090749080526e-06, '00:02']\n",
      "[167, 5.475770649354672e-06, 4.577090749080526e-06, '00:02']\n",
      "[168, 5.697059805243043e-06, 7.969133548613172e-06, '00:02']\n",
      "[168, 5.697059805243043e-06, 7.969133548613172e-06, '00:02']\n",
      "[169, 5.0303974603593815e-06, 4.733572041004663e-06, '00:04']\n",
      "[169, 5.0303974603593815e-06, 4.733572041004663e-06, '00:04']\n",
      "[170, 4.926546353090089e-06, 5.1214224185969215e-06, '00:04']\n",
      "[170, 4.926546353090089e-06, 5.1214224185969215e-06, '00:04']\n",
      "[171, 4.8190408961090725e-06, 5.012353994970908e-06, '00:03']\n",
      "[171, 4.8190408961090725e-06, 5.012353994970908e-06, '00:03']\n",
      "[172, 4.5709352889389265e-06, 4.677407105191378e-06, '00:02']\n",
      "[172, 4.5709352889389265e-06, 4.677407105191378e-06, '00:02']\n",
      "[173, 4.356986664788565e-06, 4.754204837809084e-06, '00:04']\n",
      "[173, 4.356986664788565e-06, 4.754204837809084e-06, '00:04']\n",
      "[174, 4.443116267793812e-06, 4.711144811153645e-06, '00:03']\n",
      "[174, 4.443116267793812e-06, 4.711144811153645e-06, '00:03']\n",
      "[175, 4.628433998732362e-06, 4.236922904965468e-06, '00:03']\n",
      "[175, 4.628433998732362e-06, 4.236922904965468e-06, '00:03']\n",
      "[176, 4.210651241010055e-06, 4.138382337259827e-06, '00:03']\n",
      "[176, 4.210651241010055e-06, 4.138382337259827e-06, '00:03']\n",
      "[177, 4.220128175802529e-06, 4.396624717628583e-06, '00:03']\n",
      "[177, 4.220128175802529e-06, 4.396624717628583e-06, '00:03']\n",
      "[178, 4.1843941289698705e-06, 4.42372447650996e-06, '00:03']\n",
      "[178, 4.1843941289698705e-06, 4.42372447650996e-06, '00:03']\n",
      "[179, 4.109252586204093e-06, 4.758527666126611e-06, '00:03']\n",
      "[179, 4.109252586204093e-06, 4.758527666126611e-06, '00:03']\n",
      "[180, 4.002878995379433e-06, 4.505975084612146e-06, '00:02']\n",
      "[180, 4.002878995379433e-06, 4.505975084612146e-06, '00:02']\n",
      "[181, 4.088261903234525e-06, 3.894586825481383e-06, '00:03']\n",
      "[181, 4.088261903234525e-06, 3.894586825481383e-06, '00:03']\n",
      "[182, 4.056073066749377e-06, 4.247340712026926e-06, '00:03']\n",
      "[182, 4.056073066749377e-06, 4.247340712026926e-06, '00:03']\n",
      "[183, 4.040757630718872e-06, 4.353830718173413e-06, '00:02']\n",
      "[183, 4.040757630718872e-06, 4.353830718173413e-06, '00:02']\n",
      "[184, 3.8485763980133925e-06, 3.943194769817637e-06, '00:02']\n",
      "[184, 3.8485763980133925e-06, 3.943194769817637e-06, '00:02']\n",
      "[185, 3.892534095939482e-06, 4.16647526435554e-06, '00:02']\n",
      "[185, 3.892534095939482e-06, 4.16647526435554e-06, '00:02']\n",
      "[186, 3.868560725095449e-06, 3.871443823300069e-06, '00:02']\n",
      "[186, 3.868560725095449e-06, 3.871443823300069e-06, '00:02']\n",
      "[187, 3.848396772809792e-06, 4.011167675344041e-06, '00:02']\n",
      "[187, 3.848396772809792e-06, 4.011167675344041e-06, '00:02']\n",
      "[188, 3.7434210753417574e-06, 3.818462118942989e-06, '00:02']\n",
      "[188, 3.7434210753417574e-06, 3.818462118942989e-06, '00:02']\n",
      "[189, 3.6935409752913984e-06, 3.7643392261088593e-06, '00:02']\n",
      "[189, 3.6935409752913984e-06, 3.7643392261088593e-06, '00:02']\n",
      "[190, 3.6929270663677016e-06, 3.7841894027224043e-06, '00:02']\n",
      "[190, 3.6929270663677016e-06, 3.7841894027224043e-06, '00:02']\n",
      "[191, 3.6711526263388805e-06, 3.896221187460469e-06, '00:02']\n",
      "[191, 3.6711526263388805e-06, 3.896221187460469e-06, '00:02']\n",
      "[192, 3.6332232866698178e-06, 3.7456684367498383e-06, '00:02']\n",
      "[192, 3.6332232866698178e-06, 3.7456684367498383e-06, '00:02']\n",
      "[193, 3.6098708733334206e-06, 3.728850515472004e-06, '00:02']\n",
      "[193, 3.6098708733334206e-06, 3.728850515472004e-06, '00:02']\n",
      "[194, 3.62271316589613e-06, 3.7416346003738e-06, '00:02']\n",
      "[194, 3.62271316589613e-06, 3.7416346003738e-06, '00:02']\n",
      "[195, 3.6478352285485016e-06, 3.734873871508171e-06, '00:02']\n",
      "[195, 3.6478352285485016e-06, 3.734873871508171e-06, '00:02']\n",
      "[196, 3.6077065033168765e-06, 3.719302640092792e-06, '00:03']\n",
      "[196, 3.6077065033168765e-06, 3.719302640092792e-06, '00:03']\n",
      "[197, 3.5678153835760895e-06, 3.7085133044456597e-06, '00:02']\n",
      "[197, 3.5678153835760895e-06, 3.7085133044456597e-06, '00:02']\n",
      "[198, 3.5899795420846203e-06, 3.708766826093779e-06, '00:02']\n",
      "[198, 3.5899795420846203e-06, 3.708766826093779e-06, '00:02']\n",
      "[199, 3.59387559001334e-06, 3.7092693219165085e-06, '00:02']\n",
      "[199, 3.59387559001334e-06, 3.7092693219165085e-06, '00:02']\n",
      "Training took 761.293129822001 seconds\n"
     ]
    }
   ],
   "source": [
    "start = time.perf_counter() # Starts timer\n",
    "learn.fit_one_cycle(n_epoch=200)\n",
    "end = time.perf_counter() # Ends timer\n",
    "delta_t = end - start\n",
    "print('Training took', delta_t, 'seconds')"
   ]
  },
  {
   "cell_type": "code",
   "execution_count": 68,
   "metadata": {},
   "outputs": [
    {
     "data": {
      "image/png": "[encoded data removed]",
      "text/plain": [
       "<Figure size 432x288 with 1 Axes>"
      ]
     },
     "metadata": {
      "needs_background": "light"
     },
     "output_type": "display_data"
    }
   ],
   "source": [
    "recorder.plot_loss()"
   ]
  },
  {
   "cell_type": "code",
   "execution_count": 69,
   "metadata": {},
   "outputs": [
    {
     "data": {
      "text/plain": [
       "(#1) [3.7092693219165085e-06]"
      ]
     },
     "execution_count": 69,
     "metadata": {},
     "output_type": "execute_result"
    }
   ],
   "source": [
    "learn.validate()\n"
   ]
  },
  {
   "cell_type": "markdown",
   "metadata": {},
   "source": [
    "The overall loss seems to decrease, maybe we'll try increasing epoch further, but first we try decreasing the epochs"
   ]
  },
  {
   "cell_type": "code",
   "execution_count": 71,
   "metadata": {},
   "outputs": [
    {
     "name": "stdout",
     "output_type": "stream",
     "text": [
      "[0, 4.107924269192154e-06, 4.225215889164247e-06, '00:04']\n",
      "[0, 4.107924269192154e-06, 4.225215889164247e-06, '00:04']\n",
      "[1, 4.635870936908759e-06, 4.6862087401677854e-06, '00:04']\n",
      "[1, 4.635870936908759e-06, 4.6862087401677854e-06, '00:04']\n",
      "[2, 7.249889222293859e-06, 6.223179298103787e-06, '00:04']\n",
      "[2, 7.249889222293859e-06, 6.223179298103787e-06, '00:04']\n",
      "[3, 2.0457906430237927e-05, 1.7395630493410863e-05, '00:04']\n",
      "[3, 2.0457906430237927e-05, 1.7395630493410863e-05, '00:04']\n",
      "[4, 4.340379382483661e-05, 0.0002162515593226999, '00:03']\n",
      "[4, 4.340379382483661e-05, 0.0002162515593226999, '00:03']\n",
      "[5, 9.775157377589494e-05, 3.64730331057217e-05, '00:04']\n",
      "[5, 9.775157377589494e-05, 3.64730331057217e-05, '00:04']\n",
      "[6, 0.00015367477317340672, 5.691836486221291e-05, '00:05']\n",
      "[6, 0.00015367477317340672, 5.691836486221291e-05, '00:05']\n",
      "[7, 0.0002270781114930287, 0.00012166287342552096, '00:07']\n",
      "[7, 0.0002270781114930287, 0.00012166287342552096, '00:07']\n",
      "[8, 0.000636473239865154, 0.0007050705025903881, '00:03']\n",
      "[8, 0.000636473239865154, 0.0007050705025903881, '00:03']\n",
      "[9, 0.0005269875982776284, 0.00040221624658443034, '00:02']\n",
      "[9, 0.0005269875982776284, 0.00040221624658443034, '00:02']\n",
      "[10, 0.0006015049293637276, 0.0033394652418792248, '00:02']\n",
      "[10, 0.0006015049293637276, 0.0033394652418792248, '00:02']\n",
      "[11, 0.0007376977009698749, 0.0005319656920619309, '00:03']\n",
      "[11, 0.0007376977009698749, 0.0005319656920619309, '00:03']\n",
      "[12, 0.0007158920052461326, 0.00016010756371542811, '00:03']\n",
      "[12, 0.0007158920052461326, 0.00016010756371542811, '00:03']\n",
      "[13, 0.0005195760168135166, 0.0006366922752931714, '00:02']\n",
      "[13, 0.0005195760168135166, 0.0006366922752931714, '00:02']\n",
      "[14, 0.0006957974401302636, 0.00014580439892597497, '00:02']\n",
      "[14, 0.0006957974401302636, 0.00014580439892597497, '00:02']\n",
      "[15, 0.0005114171071909368, 2.8030977773596533e-05, '00:02']\n",
      "[15, 0.0005114171071909368, 2.8030977773596533e-05, '00:02']\n",
      "[16, 0.0003993950958829373, 7.464932423317805e-05, '00:02']\n",
      "[16, 0.0003993950958829373, 7.464932423317805e-05, '00:02']\n",
      "[17, 0.00046300271060317755, 0.0001865915401140228, '00:03']\n",
      "[17, 0.00046300271060317755, 0.0001865915401140228, '00:03']\n",
      "[18, 0.00042167954961769283, 0.00017044926062226295, '00:02']\n",
      "[18, 0.00042167954961769283, 0.00017044926062226295, '00:02']\n",
      "[19, 0.0003099894674960524, 0.00021498778369277716, '00:02']\n",
      "[19, 0.0003099894674960524, 0.00021498778369277716, '00:02']\n",
      "[20, 0.00030089111533015966, 0.00019858939049299806, '00:03']\n",
      "[20, 0.00030089111533015966, 0.00019858939049299806, '00:03']\n",
      "[21, 0.0002507466997485608, 3.982746784458868e-05, '00:02']\n",
      "[21, 0.0002507466997485608, 3.982746784458868e-05, '00:02']\n",
      "[22, 0.0002638821897562593, 0.00012239618808962405, '00:02']\n",
      "[22, 0.0002638821897562593, 0.00012239618808962405, '00:02']\n",
      "[23, 0.00020065456919837743, 0.00015432114014402032, '00:02']\n",
      "[23, 0.00020065456919837743, 0.00015432114014402032, '00:02']\n",
      "[24, 0.00016633233462926, 0.0006635683821514249, '00:02']\n",
      "[24, 0.00016633233462926, 0.0006635683821514249, '00:02']\n",
      "[25, 0.0001274578389711678, 0.00014225314953364432, '00:03']\n",
      "[25, 0.0001274578389711678, 0.00014225314953364432, '00:03']\n",
      "[26, 0.00015131407417356968, 0.000279674946796149, '00:03']\n",
      "[26, 0.00015131407417356968, 0.000279674946796149, '00:03']\n",
      "[27, 0.00011111258208984509, 8.235540008172393e-05, '00:04']\n",
      "[27, 0.00011111258208984509, 8.235540008172393e-05, '00:04']\n",
      "[28, 7.813785487087443e-05, 1.974642145796679e-05, '00:03']\n",
      "[28, 7.813785487087443e-05, 1.974642145796679e-05, '00:03']\n",
      "[29, 5.997771950205788e-05, 2.632051291584503e-05, '00:03']\n",
      "[29, 5.997771950205788e-05, 2.632051291584503e-05, '00:03']\n",
      "[30, 4.888189141638577e-05, 3.62080245395191e-05, '00:02']\n",
      "[30, 4.888189141638577e-05, 3.62080245395191e-05, '00:02']\n",
      "[31, 7.555630145361647e-05, 2.7850832339026965e-05, '00:02']\n",
      "[31, 7.555630145361647e-05, 2.7850832339026965e-05, '00:02']\n",
      "[32, 2.9773800633847713e-05, 1.8297205315320753e-05, '00:02']\n",
      "[32, 2.9773800633847713e-05, 1.8297205315320753e-05, '00:02']\n",
      "[33, 2.332203985133674e-05, 3.483668842818588e-05, '00:03']\n",
      "[33, 2.332203985133674e-05, 3.483668842818588e-05, '00:03']\n",
      "[34, 2.3744873033137992e-05, 1.3688689250557218e-05, '00:03']\n",
      "[34, 2.3744873033137992e-05, 1.3688689250557218e-05, '00:03']\n",
      "[35, 1.5270657968358137e-05, 1.343259009445319e-05, '00:02']\n",
      "[35, 1.5270657968358137e-05, 1.343259009445319e-05, '00:02']\n",
      "[36, 1.2399997103784699e-05, 2.118811971740797e-05, '00:03']\n",
      "[36, 1.2399997103784699e-05, 2.118811971740797e-05, '00:03']\n",
      "[37, 1.4355060557136312e-05, 1.3168250916351099e-05, '00:03']\n",
      "[37, 1.4355060557136312e-05, 1.3168250916351099e-05, '00:03']\n",
      "[38, 9.435751962882932e-06, 9.222037988365628e-06, '00:03']\n",
      "[38, 9.435751962882932e-06, 9.222037988365628e-06, '00:03']\n",
      "[39, 7.362728410953423e-06, 8.375992365472484e-06, '00:03']\n",
      "[39, 7.362728410953423e-06, 8.375992365472484e-06, '00:03']\n",
      "[40, 6.695210231555393e-06, 6.608491730730748e-06, '00:03']\n",
      "[40, 6.695210231555393e-06, 6.608491730730748e-06, '00:03']\n",
      "[41, 6.628262326557888e-06, 7.172980986069888e-06, '00:03']\n",
      "[41, 6.628262326557888e-06, 7.172980986069888e-06, '00:03']\n",
      "[42, 6.0996580941719e-06, 7.0524906732316595e-06, '00:02']\n",
      "[42, 6.0996580941719e-06, 7.0524906732316595e-06, '00:02']\n",
      "[43, 6.0825627770100255e-06, 5.781135314464336e-06, '00:02']\n",
      "[43, 6.0825627770100255e-06, 5.781135314464336e-06, '00:02']\n",
      "[44, 5.6777889767545275e-06, 5.856383268110221e-06, '00:05']\n",
      "[44, 5.6777889767545275e-06, 5.856383268110221e-06, '00:05']\n",
      "[45, 5.485668680194067e-06, 5.772046733909519e-06, '00:04']\n",
      "[45, 5.485668680194067e-06, 5.772046733909519e-06, '00:04']\n",
      "[46, 5.266063453746028e-06, 5.53881091036601e-06, '00:02']\n",
      "[46, 5.266063453746028e-06, 5.53881091036601e-06, '00:02']\n",
      "[47, 5.096312634123024e-06, 5.44408749192371e-06, '00:03']\n",
      "[47, 5.096312634123024e-06, 5.44408749192371e-06, '00:03']\n",
      "[48, 5.000861619919306e-06, 5.390950718719978e-06, '00:03']\n",
      "[48, 5.000861619919306e-06, 5.390950718719978e-06, '00:03']\n",
      "[49, 4.921819254377624e-06, 5.373477506509516e-06, '00:03']\n",
      "[49, 4.921819254377624e-06, 5.373477506509516e-06, '00:03']\n",
      "Training took 177.90189731399914 seconds\n"
     ]
    }
   ],
   "source": [
    "start = time.perf_counter() # Starts timer\n",
    "learn.fit_one_cycle(n_epoch=50)\n",
    "end = time.perf_counter() # Ends timer\n",
    "delta_t = end - start\n",
    "print('Training took', delta_t, 'seconds')"
   ]
  },
  {
   "cell_type": "code",
   "execution_count": 72,
   "metadata": {},
   "outputs": [
    {
     "data": {
      "image/png": "[encoded data removed]",
      "text/plain": [
       "<Figure size 432x288 with 1 Axes>"
      ]
     },
     "metadata": {
      "needs_background": "light"
     },
     "output_type": "display_data"
    }
   ],
   "source": [
    "recorder.plot_loss()"
   ]
  },
  {
   "cell_type": "code",
   "execution_count": 73,
   "metadata": {},
   "outputs": [
    {
     "data": {
      "text/plain": [
       "(#1) [5.373477506509516e-06]"
      ]
     },
     "execution_count": 73,
     "metadata": {},
     "output_type": "execute_result"
    }
   ],
   "source": [
    "learn.validate()\n"
   ]
  },
  {
   "cell_type": "markdown",
   "metadata": {},
   "source": [
    "Both of these seem to do better than our original model, judging from the overall MSE"
   ]
  },
  {
   "cell_type": "code",
   "execution_count": 74,
   "metadata": {},
   "outputs": [
    {
     "name": "stdout",
     "output_type": "stream",
     "text": [
      "[0, 5.4916858971409965e-06, 6.17140995018417e-06, '00:03']\n",
      "[0, 5.4916858971409965e-06, 6.17140995018417e-06, '00:03']\n",
      "[1, 6.888002644700464e-06, 7.354989520536037e-06, '00:04']\n",
      "[1, 6.888002644700464e-06, 7.354989520536037e-06, '00:04']\n",
      "[2, 1.1386906408006325e-05, 7.63022580940742e-06, '00:06']\n",
      "[2, 1.1386906408006325e-05, 7.63022580940742e-06, '00:06']\n",
      "[3, 4.3255506170680746e-05, 5.4677057050867006e-05, '00:03']\n",
      "[3, 4.3255506170680746e-05, 5.4677057050867006e-05, '00:03']\n",
      "[4, 8.28742777230218e-05, 6.5143896790687e-05, '00:03']\n",
      "[4, 8.28742777230218e-05, 6.5143896790687e-05, '00:03']\n",
      "[5, 0.0001701935107121244, 2.7886137104360387e-05, '00:03']\n",
      "[5, 0.0001701935107121244, 2.7886137104360387e-05, '00:03']\n",
      "[6, 0.0003176762256771326, 7.950334111228585e-05, '00:06']\n",
      "[6, 0.0003176762256771326, 7.950334111228585e-05, '00:06']\n",
      "[7, 0.0004544318944681436, 0.00010747616033768281, '00:03']\n",
      "[7, 0.0004544318944681436, 0.00010747616033768281, '00:03']\n",
      "[8, 0.0005846125422976911, 0.0013443578500300646, '00:05']\n",
      "[8, 0.0005846125422976911, 0.0013443578500300646, '00:05']\n",
      "[9, 0.0005020836251787841, 0.0002848515869118273, '00:03']\n",
      "[9, 0.0005020836251787841, 0.0002848515869118273, '00:03']\n",
      "[10, 0.0004532723978627473, 7.498423656215891e-05, '00:04']\n",
      "[10, 0.0004532723978627473, 7.498423656215891e-05, '00:04']\n",
      "[11, 0.0004814850108232349, 0.0001275910035474226, '00:03']\n",
      "[11, 0.0004814850108232349, 0.0001275910035474226, '00:03']\n",
      "[12, 0.0005848397267982364, 0.00038499984657391906, '00:05']\n",
      "[12, 0.0005848397267982364, 0.00038499984657391906, '00:05']\n",
      "[13, 0.0006915321573615074, 5.6487788242520764e-05, '00:04']\n",
      "[13, 0.0006915321573615074, 5.6487788242520764e-05, '00:04']\n",
      "[14, 0.00034079651231877506, 0.00021877509425394237, '00:04']\n",
      "[14, 0.00034079651231877506, 0.00021877509425394237, '00:04']\n",
      "[15, 0.0003005699545610696, 0.00011010783055098727, '00:04']\n",
      "[15, 0.0003005699545610696, 0.00011010783055098727, '00:04']\n",
      "[16, 0.0002686217485461384, 0.0007693033549003303, '00:05']\n",
      "[16, 0.0002686217485461384, 0.0007693033549003303, '00:05']\n",
      "[17, 0.00024598007439635694, 0.0001550459273857996, '00:06']\n",
      "[17, 0.00024598007439635694, 0.0001550459273857996, '00:06']\n",
      "[18, 0.00023410806898027658, 4.003334470326081e-05, '00:03']\n",
      "[18, 0.00023410806898027658, 4.003334470326081e-05, '00:03']\n",
      "[19, 0.00016252956993412226, 5.734782826039009e-05, '00:03']\n",
      "[19, 0.00016252956993412226, 5.734782826039009e-05, '00:03']\n",
      "[20, 0.00011527420429047197, 3.74131923308596e-05, '00:02']\n",
      "[20, 0.00011527420429047197, 3.74131923308596e-05, '00:02']\n",
      "[21, 9.809863695409149e-05, 5.12402257299982e-05, '00:02']\n",
      "[21, 9.809863695409149e-05, 5.12402257299982e-05, '00:02']\n",
      "[22, 7.608766463818029e-05, 2.814989784383215e-05, '00:05']\n",
      "[22, 7.608766463818029e-05, 2.814989784383215e-05, '00:05']\n",
      "[23, 5.6157998187700287e-05, 1.6190218957490288e-05, '00:04']\n",
      "[23, 5.6157998187700287e-05, 1.6190218957490288e-05, '00:04']\n",
      "[24, 4.044234083266929e-05, 4.9910911911865696e-05, '00:03']\n",
      "[24, 4.044234083266929e-05, 4.9910911911865696e-05, '00:03']\n",
      "[25, 3.3394131605746225e-05, 1.44439554787823e-05, '00:05']\n",
      "[25, 3.3394131605746225e-05, 1.44439554787823e-05, '00:05']\n",
      "[26, 2.2582260498893447e-05, 3.0548642826033756e-05, '00:03']\n",
      "[26, 2.2582260498893447e-05, 3.0548642826033756e-05, '00:03']\n",
      "[27, 2.178074646508321e-05, 1.3415142348094378e-05, '00:04']\n",
      "[27, 2.178074646508321e-05, 1.3415142348094378e-05, '00:04']\n",
      "[28, 1.3471681995724794e-05, 2.061125087493565e-05, '00:04']\n",
      "[28, 1.3471681995724794e-05, 2.061125087493565e-05, '00:04']\n",
      "[29, 1.0964873581542633e-05, 8.054696991166566e-06, '00:03']\n",
      "[29, 1.0964873581542633e-05, 8.054696991166566e-06, '00:03']\n",
      "[30, 1.0343812391511165e-05, 8.188788342522457e-06, '00:03']\n",
      "[30, 1.0343812391511165e-05, 8.188788342522457e-06, '00:03']\n",
      "[31, 8.424281986663118e-06, 7.628413186466787e-06, '00:04']\n",
      "[31, 8.424281986663118e-06, 7.628413186466787e-06, '00:04']\n",
      "[32, 7.169759555836208e-06, 6.624557499890216e-06, '00:05']\n",
      "[32, 7.169759555836208e-06, 6.624557499890216e-06, '00:05']\n",
      "[33, 6.5414678829256445e-06, 6.7993346419825684e-06, '00:06']\n",
      "[33, 6.5414678829256445e-06, 6.7993346419825684e-06, '00:06']\n",
      "[34, 6.184589437907562e-06, 6.446949100791244e-06, '00:05']\n",
      "[34, 6.184589437907562e-06, 6.446949100791244e-06, '00:05']\n",
      "[35, 5.893628440389875e-06, 6.418209977709921e-06, '00:08']\n",
      "[35, 5.893628440389875e-06, 6.418209977709921e-06, '00:08']\n",
      "[36, 5.663506726705236e-06, 6.037744242348708e-06, '00:16']\n",
      "[36, 5.663506726705236e-06, 6.037744242348708e-06, '00:16']\n",
      "[37, 5.512688858289039e-06, 5.9341978158045094e-06, '00:03']\n",
      "[37, 5.512688858289039e-06, 5.9341978158045094e-06, '00:03']\n",
      "[38, 5.394811068981653e-06, 5.838160177518148e-06, '00:03']\n",
      "[38, 5.394811068981653e-06, 5.838160177518148e-06, '00:03']\n",
      "[39, 5.310004326020135e-06, 5.810973107145401e-06, '00:04']\n",
      "[39, 5.310004326020135e-06, 5.810973107145401e-06, '00:04']\n",
      "Training took 191.2596792889999 seconds\n"
     ]
    }
   ],
   "source": [
    "start = time.perf_counter() # Starts timer\n",
    "learn.fit_one_cycle(n_epoch=40)\n",
    "end = time.perf_counter() # Ends timer\n",
    "delta_t = end - start\n",
    "print('Training took', delta_t, 'seconds')"
   ]
  },
  {
   "cell_type": "code",
   "execution_count": 75,
   "metadata": {},
   "outputs": [
    {
     "data": {
      "image/png": "[encoded data removed]",
      "text/plain": [
       "<Figure size 432x288 with 1 Axes>"
      ]
     },
     "metadata": {
      "needs_background": "light"
     },
     "output_type": "display_data"
    }
   ],
   "source": [
    "recorder.plot_loss()"
   ]
  },
  {
   "cell_type": "code",
   "execution_count": 76,
   "metadata": {},
   "outputs": [
    {
     "data": {
      "text/plain": [
       "(#1) [5.810973107145401e-06]"
      ]
     },
     "execution_count": 76,
     "metadata": {},
     "output_type": "execute_result"
    }
   ],
   "source": [
    "learn.validate()\n"
   ]
  },
  {
   "cell_type": "code",
   "execution_count": null,
   "metadata": {},
   "outputs": [],
   "source": []
  },
  {
   "cell_type": "code",
   "execution_count": 77,
   "metadata": {},
   "outputs": [
    {
     "name": "stdout",
     "output_type": "stream",
     "text": [
      "[0, 6.8823405854345765e-06, 6.161458259157371e-06, '00:05']\n",
      "[0, 6.8823405854345765e-06, 6.161458259157371e-06, '00:05']\n",
      "[1, 5.7992742767964955e-06, 5.883769972570008e-06, '00:04']\n",
      "[1, 5.7992742767964955e-06, 5.883769972570008e-06, '00:04']\n",
      "[2, 5.645722922054119e-06, 6.216049769136589e-06, '00:04']\n",
      "[2, 5.645722922054119e-06, 6.216049769136589e-06, '00:04']\n",
      "[3, 5.499014150700532e-06, 5.991626949253259e-06, '00:08']\n",
      "[3, 5.499014150700532e-06, 5.991626949253259e-06, '00:08']\n",
      "[4, 5.5422374316549394e-06, 6.326612947304966e-06, '00:11']\n",
      "[4, 5.5422374316549394e-06, 6.326612947304966e-06, '00:11']\n",
      "[5, 5.537649030884495e-06, 5.661786417476833e-06, '00:10']\n",
      "[5, 5.537649030884495e-06, 5.661786417476833e-06, '00:10']\n",
      "[6, 5.478189905261388e-06, 6.170729193399893e-06, '00:11']\n",
      "[6, 5.478189905261388e-06, 6.170729193399893e-06, '00:11']\n",
      "[7, 5.7555403145670425e-06, 6.0407874116208404e-06, '00:12']\n",
      "[7, 5.7555403145670425e-06, 6.0407874116208404e-06, '00:12']\n",
      "[8, 5.60512535230373e-06, 6.225081051525194e-06, '00:08']\n",
      "[8, 5.60512535230373e-06, 6.225081051525194e-06, '00:08']\n",
      "[9, 5.980704827379668e-06, 8.497836461174302e-06, '00:17']\n",
      "[9, 5.980704827379668e-06, 8.497836461174302e-06, '00:17']\n",
      "[10, 5.650656476063887e-06, 5.778648301202338e-06, '00:03']\n",
      "[10, 5.650656476063887e-06, 5.778648301202338e-06, '00:03']\n",
      "[11, 6.004084298183443e-06, 5.716136911360081e-06, '00:03']\n",
      "[11, 6.004084298183443e-06, 5.716136911360081e-06, '00:03']\n",
      "[12, 6.022655725246295e-06, 7.334926522162277e-06, '00:03']\n",
      "[12, 6.022655725246295e-06, 7.334926522162277e-06, '00:03']\n",
      "[13, 5.825626431033015e-06, 6.032078999851365e-06, '00:10']\n",
      "[13, 5.825626431033015e-06, 6.032078999851365e-06, '00:10']\n",
      "[14, 5.820544629386859e-06, 5.962435807305155e-06, '00:06']\n",
      "[14, 5.820544629386859e-06, 5.962435807305155e-06, '00:06']\n",
      "[15, 7.081296189426212e-06, 5.654076630889904e-06, '00:17']\n",
      "[15, 7.081296189426212e-06, 5.654076630889904e-06, '00:17']\n",
      "[16, 6.282947197178146e-06, 7.994677616807166e-06, '00:06']\n",
      "[16, 6.282947197178146e-06, 7.994677616807166e-06, '00:06']\n",
      "[17, 7.5381876740721054e-06, 8.657162652525585e-06, '00:23']\n",
      "[17, 7.5381876740721054e-06, 8.657162652525585e-06, '00:23']\n",
      "[18, 7.408817964460468e-06, 5.612841960100923e-06, '00:14']\n",
      "[18, 7.408817964460468e-06, 5.612841960100923e-06, '00:14']\n",
      "[19, 7.827631634427235e-06, 5.515820248547243e-06, '00:18']\n",
      "[19, 7.827631634427235e-06, 5.515820248547243e-06, '00:18']\n",
      "[20, 9.566206244926434e-06, 9.869313544186298e-06, '00:07']\n",
      "[20, 9.566206244926434e-06, 9.869313544186298e-06, '00:07']\n",
      "[21, 9.694361324363854e-06, 9.459576176595874e-06, '00:03']\n",
      "[21, 9.694361324363854e-06, 9.459576176595874e-06, '00:03']\n",
      "[22, 1.0452720744069666e-05, 6.445280632760841e-06, '00:02']\n",
      "[22, 1.0452720744069666e-05, 6.445280632760841e-06, '00:02']\n",
      "[23, 1.2198001059005037e-05, 2.1439256670419127e-05, '00:03']\n",
      "[23, 1.2198001059005037e-05, 2.1439256670419127e-05, '00:03']\n",
      "[24, 1.388445252814563e-05, 1.064066236722283e-05, '00:02']\n",
      "[24, 1.388445252814563e-05, 1.064066236722283e-05, '00:02']\n",
      "[25, 1.5397190509247594e-05, 8.448782864434179e-06, '00:02']\n",
      "[25, 1.5397190509247594e-05, 8.448782864434179e-06, '00:02']\n",
      "[26, 2.425434286124073e-05, 1.0822011972777545e-05, '00:02']\n",
      "[26, 2.425434286124073e-05, 1.0822011972777545e-05, '00:02']\n",
      "[27, 1.8394601283944212e-05, 1.481077924836427e-05, '00:02']\n",
      "[27, 1.8394601283944212e-05, 1.481077924836427e-05, '00:02']\n",
      "[28, 2.313066943315789e-05, 2.1076355551485904e-05, '00:02']\n",
      "[28, 2.313066943315789e-05, 2.1076355551485904e-05, '00:02']\n",
      "[29, 2.1919722712482326e-05, 6.167580067995004e-06, '00:03']\n",
      "[29, 2.1919722712482326e-05, 6.167580067995004e-06, '00:03']\n",
      "[30, 3.1360479624709114e-05, 7.358497896348126e-06, '00:02']\n",
      "[30, 3.1360479624709114e-05, 7.358497896348126e-06, '00:02']\n",
      "[31, 2.9055216145934537e-05, 2.1907728296355344e-05, '00:02']\n",
      "[31, 2.9055216145934537e-05, 2.1907728296355344e-05, '00:02']\n",
      "[32, 3.16774494422134e-05, 2.3352549760602415e-05, '00:02']\n",
      "[32, 3.16774494422134e-05, 2.3352549760602415e-05, '00:02']\n",
      "[33, 4.630706462194212e-05, 7.032421126496047e-05, '00:02']\n",
      "[33, 4.630706462194212e-05, 7.032421126496047e-05, '00:02']\n",
      "[34, 5.769472772954032e-05, 2.3845839677960612e-05, '00:02']\n",
      "[34, 5.769472772954032e-05, 2.3845839677960612e-05, '00:02']\n",
      "[35, 4.7746769268997014e-05, 0.00037992247962392867, '00:02']\n",
      "[35, 4.7746769268997014e-05, 0.00037992247962392867, '00:02']\n",
      "[36, 5.668614903697744e-05, 1.600490759301465e-05, '00:02']\n",
      "[36, 5.668614903697744e-05, 1.600490759301465e-05, '00:02']\n",
      "[37, 5.427026189863682e-05, 0.00011655283742584288, '00:02']\n",
      "[37, 5.427026189863682e-05, 0.00011655283742584288, '00:02']\n",
      "[38, 6.823318108217791e-05, 2.2429843738791533e-05, '00:02']\n",
      "[38, 6.823318108217791e-05, 2.2429843738791533e-05, '00:02']\n",
      "[39, 6.969224341446534e-05, 2.8193036996526644e-05, '00:02']\n",
      "[39, 6.969224341446534e-05, 2.8193036996526644e-05, '00:02']\n",
      "[40, 8.453997725155205e-05, 4.5314201997825876e-05, '00:03']\n",
      "[40, 8.453997725155205e-05, 4.5314201997825876e-05, '00:03']\n",
      "[41, 0.00010579874651739374, 4.0343336877413094e-05, '00:02']\n",
      "[41, 0.00010579874651739374, 4.0343336877413094e-05, '00:02']\n",
      "[42, 0.00010063149238703772, 7.136195199564099e-05, '00:02']\n",
      "[42, 0.00010063149238703772, 7.136195199564099e-05, '00:02']\n",
      "[43, 0.00012465356849133968, 0.00011966406600549817, '00:02']\n",
      "[43, 0.00012465356849133968, 0.00011966406600549817, '00:02']\n",
      "[44, 0.00012127999070798978, 7.41464682505466e-05, '00:02']\n",
      "[44, 0.00012127999070798978, 7.41464682505466e-05, '00:02']\n",
      "[45, 0.00016862826305441558, 2.0648070858442225e-05, '00:02']\n",
      "[45, 0.00016862826305441558, 2.0648070858442225e-05, '00:02']\n",
      "[46, 0.00015349579916801304, 3.313076376798563e-05, '00:02']\n",
      "[46, 0.00015349579916801304, 3.313076376798563e-05, '00:02']\n",
      "[47, 0.0001789745147107169, 8.786065154708922e-05, '00:02']\n",
      "[47, 0.0001789745147107169, 8.786065154708922e-05, '00:02']\n",
      "[48, 0.00017107132589444518, 6.490137457149103e-05, '00:02']\n",
      "[48, 0.00017107132589444518, 6.490137457149103e-05, '00:02']\n",
      "[49, 0.00017919322999659926, 0.000223968003410846, '00:02']\n",
      "[49, 0.00017919322999659926, 0.000223968003410846, '00:02']\n",
      "[50, 0.0001883984514279291, 6.30376162007451e-05, '00:03']\n",
      "[50, 0.0001883984514279291, 6.30376162007451e-05, '00:03']\n",
      "[51, 0.00019102796795777977, 9.36173673835583e-05, '00:03']\n",
      "[51, 0.00019102796795777977, 9.36173673835583e-05, '00:03']\n",
      "[52, 0.00025054748402908444, 0.00034203333780169487, '00:02']\n",
      "[52, 0.00025054748402908444, 0.00034203333780169487, '00:02']\n",
      "[53, 0.0002302715729456395, 3.961657057516277e-05, '00:02']\n",
      "[53, 0.0002302715729456395, 3.961657057516277e-05, '00:02']\n",
      "[54, 0.0003249366709496826, 0.0002803682000376284, '00:02']\n",
      "[54, 0.0003249366709496826, 0.0002803682000376284, '00:02']\n",
      "[55, 0.0002690854307729751, 3.893013490596786e-05, '00:02']\n",
      "[55, 0.0002690854307729751, 3.893013490596786e-05, '00:02']\n",
      "[56, 0.0003156336897518486, 3.3503409213153645e-05, '00:02']\n",
      "[56, 0.0003156336897518486, 3.3503409213153645e-05, '00:02']\n",
      "[57, 0.000264088565018028, 2.8228932933416218e-05, '00:02']\n",
      "[57, 0.000264088565018028, 2.8228932933416218e-05, '00:02']\n",
      "[58, 0.0003102452610619366, 0.00010084742098115385, '00:02']\n",
      "[58, 0.0003102452610619366, 0.00010084742098115385, '00:02']\n",
      "[59, 0.0003129958058707416, 0.00042272903374396265, '00:02']\n",
      "[59, 0.0003129958058707416, 0.00042272903374396265, '00:02']\n",
      "[60, 0.00035891614970751107, 0.000226925389142707, '00:02']\n",
      "[60, 0.00035891614970751107, 0.000226925389142707, '00:02']\n",
      "[61, 0.0003326582664158195, 0.0002220676833530888, '00:02']\n",
      "[61, 0.0003326582664158195, 0.0002220676833530888, '00:02']\n",
      "[62, 0.00029925047419965267, 7.016359450062737e-05, '00:02']\n",
      "[62, 0.00029925047419965267, 7.016359450062737e-05, '00:02']\n",
      "[63, 0.0003444121975917369, 0.0004794604319613427, '00:02']\n",
      "[63, 0.0003444121975917369, 0.0004794604319613427, '00:02']\n",
      "[64, 0.00035356765147298574, 0.00014397871564142406, '00:02']\n",
      "[64, 0.00035356765147298574, 0.00014397871564142406, '00:02']\n",
      "[65, 0.0003865901962853968, 0.000321481900755316, '00:02']\n",
      "[65, 0.0003865901962853968, 0.000321481900755316, '00:02']\n",
      "[66, 0.0003409098426345736, 6.857232801849023e-05, '00:03']\n",
      "[66, 0.0003409098426345736, 6.857232801849023e-05, '00:03']\n",
      "[67, 0.00040786268073134124, 0.0001720409345580265, '00:02']\n",
      "[67, 0.00040786268073134124, 0.0001720409345580265, '00:02']\n"
     ]
    },
    {
     "name": "stdout",
     "output_type": "stream",
     "text": [
      "[68, 0.0003476311976555735, 9.695747576188296e-05, '00:02']\n",
      "[68, 0.0003476311976555735, 9.695747576188296e-05, '00:02']\n",
      "[69, 0.0005036080838181078, 0.0006764829158782959, '00:02']\n",
      "[69, 0.0005036080838181078, 0.0006764829158782959, '00:02']\n",
      "[70, 0.0005692896666005254, 0.00022371954401023686, '00:03']\n",
      "[70, 0.0005692896666005254, 0.00022371954401023686, '00:03']\n",
      "[71, 0.00041863947990350425, 0.00027236464666202664, '00:02']\n",
      "[71, 0.00041863947990350425, 0.00027236464666202664, '00:02']\n",
      "[72, 0.0004561248351819813, 4.862446439801715e-05, '00:02']\n",
      "[72, 0.0004561248351819813, 4.862446439801715e-05, '00:02']\n",
      "[73, 0.000325063185300678, 0.00014987835311330855, '00:02']\n",
      "[73, 0.000325063185300678, 0.00014987835311330855, '00:02']\n",
      "[74, 0.0004157419898547232, 0.00023254232655745, '00:02']\n",
      "[74, 0.0004157419898547232, 0.00023254232655745, '00:02']\n",
      "[75, 0.0004898267216049135, 0.00031332101207226515, '00:02']\n",
      "[75, 0.0004898267216049135, 0.00031332101207226515, '00:02']\n",
      "[76, 0.00039009327883832157, 0.0004156002833042294, '00:02']\n",
      "[76, 0.00039009327883832157, 0.0004156002833042294, '00:02']\n",
      "[77, 0.00034683337435126305, 0.00042693837895058095, '00:02']\n",
      "[77, 0.00034683337435126305, 0.00042693837895058095, '00:02']\n",
      "[78, 0.0005280264304019511, 0.00020067520381417125, '00:02']\n",
      "[78, 0.0005280264304019511, 0.00020067520381417125, '00:02']\n",
      "[79, 0.0003469014191068709, 0.00017438472423236817, '00:02']\n",
      "[79, 0.0003469014191068709, 0.00017438472423236817, '00:02']\n",
      "[80, 0.0004075138713233173, 0.000391992594813928, '00:02']\n",
      "[80, 0.0004075138713233173, 0.000391992594813928, '00:02']\n",
      "[81, 0.00035100054810754955, 4.204611468594521e-05, '00:02']\n",
      "[81, 0.00035100054810754955, 4.204611468594521e-05, '00:02']\n",
      "[82, 0.0004092385061085224, 0.00012529680680017918, '00:02']\n",
      "[82, 0.0004092385061085224, 0.00012529680680017918, '00:02']\n",
      "[83, 0.00041509763104841113, 0.00016693564248271286, '00:02']\n",
      "[83, 0.00041509763104841113, 0.00016693564248271286, '00:02']\n",
      "[84, 0.00039422386907972395, 8.838398935040459e-05, '00:02']\n",
      "[84, 0.00039422386907972395, 8.838398935040459e-05, '00:02']\n",
      "[85, 0.0003967009542975575, 8.196644193958491e-05, '00:02']\n",
      "[85, 0.0003967009542975575, 8.196644193958491e-05, '00:02']\n",
      "[86, 0.0004732701927423477, 0.004114977084100246, '00:03']\n",
      "[86, 0.0004732701927423477, 0.004114977084100246, '00:03']\n",
      "[87, 0.0003417802508920431, 0.00015660452481824905, '00:03']\n",
      "[87, 0.0003417802508920431, 0.00015660452481824905, '00:03']\n",
      "[88, 0.00036037046811543405, 0.0004852416168432683, '00:03']\n",
      "[88, 0.00036037046811543405, 0.0004852416168432683, '00:03']\n",
      "[89, 0.00029764804639853537, 5.5906257330207154e-05, '00:02']\n",
      "[89, 0.00029764804639853537, 5.5906257330207154e-05, '00:02']\n",
      "[90, 0.0003500034799799323, 0.00017387473781127483, '00:02']\n",
      "[90, 0.0003500034799799323, 0.00017387473781127483, '00:02']\n",
      "[91, 0.00030564406188204885, 0.000316294637741521, '00:03']\n",
      "[91, 0.00030564406188204885, 0.000316294637741521, '00:03']\n",
      "[92, 0.0004925023531541228, 0.00017109414329752326, '00:02']\n",
      "[92, 0.0004925023531541228, 0.00017109414329752326, '00:02']\n",
      "[93, 0.00031528976978734136, 0.0001044358650688082, '00:03']\n",
      "[93, 0.00031528976978734136, 0.0001044358650688082, '00:03']\n",
      "[94, 0.0004088793939445168, 0.0018409480107948184, '00:02']\n",
      "[94, 0.0004088793939445168, 0.0018409480107948184, '00:02']\n",
      "[95, 0.0004395246796775609, 0.0001658159599173814, '00:02']\n",
      "[95, 0.0004395246796775609, 0.0001658159599173814, '00:02']\n",
      "[96, 0.0003320088726468384, 3.3712309232214466e-05, '00:02']\n",
      "[96, 0.0003320088726468384, 3.3712309232214466e-05, '00:02']\n",
      "[97, 0.0002608543436508626, 0.0007304558530449867, '00:02']\n",
      "[97, 0.0002608543436508626, 0.0007304558530449867, '00:02']\n",
      "[98, 0.0004136842326261103, 0.00016745284665375948, '00:02']\n",
      "[98, 0.0004136842326261103, 0.00016745284665375948, '00:02']\n",
      "[99, 0.0002803167444653809, 5.1499631808837876e-05, '00:02']\n",
      "[99, 0.0002803167444653809, 5.1499631808837876e-05, '00:02']\n",
      "[100, 0.00041881890501827, 0.0009959563612937927, '00:02']\n",
      "[100, 0.00041881890501827, 0.0009959563612937927, '00:02']\n",
      "[101, 0.0004553601611405611, 0.00026795206940732896, '00:03']\n",
      "[101, 0.0004553601611405611, 0.00026795206940732896, '00:03']\n",
      "[102, 0.00029787953826598823, 0.00013478159962687641, '00:05']\n",
      "[102, 0.00029787953826598823, 0.00013478159962687641, '00:05']\n",
      "[103, 0.00029968214221298695, 0.0006918447907082736, '00:02']\n",
      "[103, 0.00029968214221298695, 0.0006918447907082736, '00:02']\n",
      "[104, 0.0003226556582376361, 0.00015720179362688214, '00:04']\n",
      "[104, 0.0003226556582376361, 0.00015720179362688214, '00:04']\n",
      "[105, 0.0003531246038619429, 0.0034424292389303446, '00:04']\n",
      "[105, 0.0003531246038619429, 0.0034424292389303446, '00:04']\n",
      "[106, 0.0002221997856395319, 0.0002025792928179726, '00:06']\n",
      "[106, 0.0002221997856395319, 0.0002025792928179726, '00:06']\n",
      "[107, 0.00028043484780937433, 0.00019608154252637178, '00:03']\n",
      "[107, 0.00028043484780937433, 0.00019608154252637178, '00:03']\n",
      "[108, 0.0004075439355801791, 0.0018009963678196073, '00:04']\n",
      "[108, 0.0004075439355801791, 0.0018009963678196073, '00:04']\n",
      "[109, 0.00024211009440477937, 0.001106733689084649, '00:05']\n",
      "[109, 0.00024211009440477937, 0.001106733689084649, '00:05']\n",
      "[110, 0.0002684143837541342, 9.024964674608782e-05, '00:04']\n",
      "[110, 0.0002684143837541342, 9.024964674608782e-05, '00:04']\n",
      "[111, 0.0003285701968707144, 5.733553189202212e-05, '00:06']\n",
      "[111, 0.0003285701968707144, 5.733553189202212e-05, '00:06']\n",
      "[112, 0.0002819894871208817, 0.0004669005866162479, '00:04']\n",
      "[112, 0.0002819894871208817, 0.0004669005866162479, '00:04']\n",
      "[113, 0.00027009035693481565, 0.0026058305520564318, '00:04']\n",
      "[113, 0.00027009035693481565, 0.0026058305520564318, '00:04']\n",
      "[114, 0.0003460969601292163, 0.00012171389244031161, '00:03']\n",
      "[114, 0.0003460969601292163, 0.00012171389244031161, '00:03']\n",
      "[115, 0.00023540372785646468, 0.0007101743831299245, '00:02']\n",
      "[115, 0.00023540372785646468, 0.0007101743831299245, '00:02']\n",
      "[116, 0.000264604517724365, 5.6477256293874234e-05, '00:05']\n",
      "[116, 0.000264604517724365, 5.6477256293874234e-05, '00:05']\n",
      "[117, 0.00030492665246129036, 0.00037202987005002797, '00:04']\n",
      "[117, 0.00030492665246129036, 0.00037202987005002797, '00:04']\n",
      "[118, 0.00023621731088496745, 6.245111580938101e-05, '00:03']\n",
      "[118, 0.00023621731088496745, 6.245111580938101e-05, '00:03']\n",
      "[119, 0.0002689433458726853, 0.00019117335614282638, '00:05']\n",
      "[119, 0.0002689433458726853, 0.00019117335614282638, '00:05']\n",
      "[120, 0.00023150828201323748, 0.00013605025014840066, '00:05']\n",
      "[120, 0.00023150828201323748, 0.00013605025014840066, '00:05']\n",
      "[121, 0.0002397638454567641, 8.66489572217688e-05, '00:05']\n",
      "[121, 0.0002397638454567641, 8.66489572217688e-05, '00:05']\n",
      "[122, 0.0002745209203567356, 0.0006287272553890944, '00:06']\n",
      "[122, 0.0002745209203567356, 0.0006287272553890944, '00:06']\n",
      "[123, 0.00027887936448678374, 4.2292787838960066e-05, '00:04']\n",
      "[123, 0.00027887936448678374, 4.2292787838960066e-05, '00:04']\n",
      "[124, 0.00035897261113859713, 0.00017332907009404153, '00:06']\n",
      "[124, 0.00035897261113859713, 0.00017332907009404153, '00:06']\n",
      "[125, 0.0002157994022127241, 0.0002432449400657788, '00:04']\n",
      "[125, 0.0002157994022127241, 0.0002432449400657788, '00:04']\n",
      "[126, 0.00018998813175130635, 8.352901204489172e-05, '00:04']\n",
      "[126, 0.00018998813175130635, 8.352901204489172e-05, '00:04']\n",
      "[127, 0.00023688876535743475, 5.294030415825546e-05, '00:04']\n",
      "[127, 0.00023688876535743475, 5.294030415825546e-05, '00:04']\n",
      "[128, 0.00017238958389498293, 0.00015416540554724634, '00:04']\n",
      "[128, 0.00017238958389498293, 0.00015416540554724634, '00:04']\n",
      "[129, 0.0002799978537950665, 0.00016022808267734945, '00:04']\n",
      "[129, 0.0002799978537950665, 0.00016022808267734945, '00:04']\n",
      "[130, 0.0002070030168397352, 0.0003097286680713296, '00:05']\n",
      "[130, 0.0002070030168397352, 0.0003097286680713296, '00:05']\n",
      "[131, 0.00015363322745542973, 5.154135942575522e-05, '00:05']\n",
      "[131, 0.00015363322745542973, 5.154135942575522e-05, '00:05']\n",
      "[132, 0.00021804113930556923, 0.00020941431284882128, '00:06']\n",
      "[132, 0.00021804113930556923, 0.00020941431284882128, '00:06']\n",
      "[133, 0.00020454090554267168, 5.6056938774418086e-05, '00:05']\n",
      "[133, 0.00020454090554267168, 5.6056938774418086e-05, '00:05']\n",
      "[134, 0.00016874643915798515, 0.0003030884254258126, '00:06']\n",
      "[134, 0.00016874643915798515, 0.0003030884254258126, '00:06']\n"
     ]
    },
    {
     "name": "stdout",
     "output_type": "stream",
     "text": [
      "[135, 0.00018387062300462276, 0.00015028734924271703, '00:04']\n",
      "[135, 0.00018387062300462276, 0.00015028734924271703, '00:04']\n",
      "[136, 0.00011748968972824514, 0.0004183892742730677, '00:03']\n",
      "[136, 0.00011748968972824514, 0.0004183892742730677, '00:03']\n",
      "[137, 0.0001894880988402292, 2.6964484277414158e-05, '00:05']\n",
      "[137, 0.0001894880988402292, 2.6964484277414158e-05, '00:05']\n",
      "[138, 0.0002463379641994834, 0.0002278460015077144, '00:03']\n",
      "[138, 0.0002463379641994834, 0.0002278460015077144, '00:03']\n",
      "[139, 0.0001786420471034944, 3.714076228789054e-05, '00:04']\n",
      "[139, 0.0001786420471034944, 3.714076228789054e-05, '00:04']\n",
      "[140, 0.0001643928262637928, 2.354595562792383e-05, '00:05']\n",
      "[140, 0.0001643928262637928, 2.354595562792383e-05, '00:05']\n",
      "[141, 0.00013110696454532444, 2.4910212232498452e-05, '00:04']\n",
      "[141, 0.00013110696454532444, 2.4910212232498452e-05, '00:04']\n",
      "[142, 0.00016317742120008916, 0.00012785066792275757, '00:04']\n",
      "[142, 0.00016317742120008916, 0.00012785066792275757, '00:04']\n",
      "[143, 0.0001359891757601872, 5.0467075197957456e-05, '00:03']\n",
      "[143, 0.0001359891757601872, 5.0467075197957456e-05, '00:03']\n",
      "[144, 0.00013439511531032622, 5.719314867747016e-05, '00:05']\n",
      "[144, 0.00013439511531032622, 5.719314867747016e-05, '00:05']\n",
      "[145, 0.00014381234359461814, 7.79789115767926e-05, '00:04']\n",
      "[145, 0.00014381234359461814, 7.79789115767926e-05, '00:04']\n",
      "[146, 0.000174822416738607, 0.00010916603059740737, '00:06']\n",
      "[146, 0.000174822416738607, 0.00010916603059740737, '00:06']\n",
      "[147, 0.00012917503772769123, 5.942383722867817e-05, '00:05']\n",
      "[147, 0.00012917503772769123, 5.942383722867817e-05, '00:05']\n",
      "[148, 0.00012706464622169733, 0.0010508730774745345, '00:05']\n",
      "[148, 0.00012706464622169733, 0.0010508730774745345, '00:05']\n",
      "[149, 0.00013017441960982978, 9.37404838623479e-05, '00:04']\n",
      "[149, 0.00013017441960982978, 9.37404838623479e-05, '00:04']\n",
      "[150, 0.00014247364015318453, 4.780413655680604e-05, '00:03']\n",
      "[150, 0.00014247364015318453, 4.780413655680604e-05, '00:03']\n",
      "[151, 9.144385694526136e-05, 0.00040498809539712965, '00:06']\n",
      "[151, 9.144385694526136e-05, 0.00040498809539712965, '00:06']\n",
      "[152, 0.00010019814362749457, 5.329829946276732e-05, '00:04']\n",
      "[152, 0.00010019814362749457, 5.329829946276732e-05, '00:04']\n",
      "[153, 0.0001230228372151032, 6.54883187962696e-05, '00:05']\n",
      "[153, 0.0001230228372151032, 6.54883187962696e-05, '00:05']\n",
      "[154, 0.00012495010741986334, 5.370969302020967e-05, '00:05']\n",
      "[154, 0.00012495010741986334, 5.370969302020967e-05, '00:05']\n",
      "[155, 0.00010392389231128618, 0.0001053992091328837, '00:09']\n",
      "[155, 0.00010392389231128618, 0.0001053992091328837, '00:09']\n",
      "[156, 0.0001147234725067392, 0.00016255068476311862, '00:05']\n",
      "[156, 0.0001147234725067392, 0.00016255068476311862, '00:05']\n",
      "[157, 9.935683920048177e-05, 4.683327642851509e-05, '00:07']\n",
      "[157, 9.935683920048177e-05, 4.683327642851509e-05, '00:07']\n",
      "[158, 0.00016782464808784425, 0.0006073777913115919, '00:04']\n",
      "[158, 0.00016782464808784425, 0.0006073777913115919, '00:04']\n",
      "[159, 8.832127787172794e-05, 6.567805394297466e-05, '00:03']\n",
      "[159, 8.832127787172794e-05, 6.567805394297466e-05, '00:03']\n",
      "[160, 6.783720891689882e-05, 8.156878175213933e-05, '00:04']\n",
      "[160, 6.783720891689882e-05, 8.156878175213933e-05, '00:04']\n",
      "[161, 8.855212217895314e-05, 2.5162296878988855e-05, '00:07']\n",
      "[161, 8.855212217895314e-05, 2.5162296878988855e-05, '00:07']\n",
      "[162, 7.826599176041782e-05, 3.292642213637009e-05, '00:04']\n",
      "[162, 7.826599176041782e-05, 3.292642213637009e-05, '00:04']\n",
      "[163, 8.188176434487104e-05, 1.762336069077719e-05, '00:04']\n",
      "[163, 8.188176434487104e-05, 1.762336069077719e-05, '00:04']\n",
      "[164, 7.132356404326856e-05, 1.8805827494361438e-05, '00:03']\n",
      "[164, 7.132356404326856e-05, 1.8805827494361438e-05, '00:03']\n",
      "[165, 6.805483280913904e-05, 4.003549111075699e-05, '00:03']\n",
      "[165, 6.805483280913904e-05, 4.003549111075699e-05, '00:03']\n",
      "[166, 9.802637941902503e-05, 2.285622940689791e-05, '00:04']\n",
      "[166, 9.802637941902503e-05, 2.285622940689791e-05, '00:04']\n",
      "[167, 6.454144022427499e-05, 4.063331653014757e-05, '00:05']\n",
      "[167, 6.454144022427499e-05, 4.063331653014757e-05, '00:05']\n",
      "[168, 6.320643296930939e-05, 1.534679176984355e-05, '00:08']\n",
      "[168, 6.320643296930939e-05, 1.534679176984355e-05, '00:08']\n",
      "[169, 7.349970837822184e-05, 9.397588291903958e-05, '00:04']\n",
      "[169, 7.349970837822184e-05, 9.397588291903958e-05, '00:04']\n",
      "[170, 6.512982508866116e-05, 7.997332431841642e-05, '00:09']\n",
      "[170, 6.512982508866116e-05, 7.997332431841642e-05, '00:09']\n",
      "[171, 6.933730765013024e-05, 4.2552514059934765e-05, '00:06']\n",
      "[171, 6.933730765013024e-05, 4.2552514059934765e-05, '00:06']\n",
      "[172, 7.9014127550181e-05, 8.658697333885357e-05, '00:22']\n",
      "[172, 7.9014127550181e-05, 8.658697333885357e-05, '00:22']\n",
      "[173, 7.090120925568044e-05, 0.0001168480739579536, '00:16']\n",
      "[173, 7.090120925568044e-05, 0.0001168480739579536, '00:16']\n",
      "[174, 7.223718421300873e-05, 0.0001263476733583957, '00:11']\n",
      "[174, 7.223718421300873e-05, 0.0001263476733583957, '00:11']\n",
      "[175, 8.700456965016201e-05, 1.7695716451271437e-05, '00:13']\n",
      "[175, 8.700456965016201e-05, 1.7695716451271437e-05, '00:13']\n",
      "[176, 5.358391354093328e-05, 0.0001671107893344015, '00:10']\n",
      "[176, 5.358391354093328e-05, 0.0001671107893344015, '00:10']\n",
      "[177, 5.496596349985339e-05, 2.3557635358884e-05, '00:11']\n",
      "[177, 5.496596349985339e-05, 2.3557635358884e-05, '00:11']\n",
      "[178, 4.898129191133194e-05, 2.2380952941603027e-05, '00:07']\n",
      "[178, 4.898129191133194e-05, 2.2380952941603027e-05, '00:07']\n",
      "[179, 5.4364081734092906e-05, 2.2184429326443933e-05, '00:14']\n",
      "[179, 5.4364081734092906e-05, 2.2184429326443933e-05, '00:14']\n",
      "[180, 4.321101732784882e-05, 3.289888263680041e-05, '00:09']\n",
      "[180, 4.321101732784882e-05, 3.289888263680041e-05, '00:09']\n",
      "[181, 4.6183868107618764e-05, 1.7103195204981603e-05, '00:06']\n",
      "[181, 4.6183868107618764e-05, 1.7103195204981603e-05, '00:06']\n",
      "[182, 4.3851487134816125e-05, 2.508307261450682e-05, '00:05']\n",
      "[182, 4.3851487134816125e-05, 2.508307261450682e-05, '00:05']\n",
      "[183, 3.955659849452786e-05, 1.129458087234525e-05, '00:11']\n",
      "[183, 3.955659849452786e-05, 1.129458087234525e-05, '00:11']\n",
      "[184, 4.157790681347251e-05, 7.4932436291419435e-06, '00:06']\n",
      "[184, 4.157790681347251e-05, 7.4932436291419435e-06, '00:06']\n",
      "[185, 3.7013713154010475e-05, 8.699336831341498e-06, '00:04']\n",
      "[185, 3.7013713154010475e-05, 8.699336831341498e-06, '00:04']\n",
      "[186, 4.879595144302584e-05, 1.5910613001324236e-05, '00:04']\n",
      "[186, 4.879595144302584e-05, 1.5910613001324236e-05, '00:04']\n",
      "[187, 3.431621007621288e-05, 3.187046240782365e-05, '00:03']\n",
      "[187, 3.431621007621288e-05, 3.187046240782365e-05, '00:03']\n",
      "[188, 4.718610944109969e-05, 2.5694662326714024e-05, '00:03']\n",
      "[188, 4.718610944109969e-05, 2.5694662326714024e-05, '00:03']\n",
      "[189, 3.343056596349925e-05, 2.2298248950392008e-05, '00:03']\n",
      "[189, 3.343056596349925e-05, 2.2298248950392008e-05, '00:03']\n",
      "[190, 3.074578125961125e-05, 1.2103264452889562e-05, '00:04']\n",
      "[190, 3.074578125961125e-05, 1.2103264452889562e-05, '00:04']\n",
      "[191, 2.901851257774979e-05, 2.280082662764471e-05, '00:03']\n",
      "[191, 2.901851257774979e-05, 2.280082662764471e-05, '00:03']\n",
      "[192, 3.0367742510861717e-05, 0.0001046264951582998, '00:09']\n",
      "[192, 3.0367742510861717e-05, 0.0001046264951582998, '00:09']\n",
      "[193, 3.5795859730569646e-05, 3.404533345019445e-05, '00:06']\n",
      "[193, 3.5795859730569646e-05, 3.404533345019445e-05, '00:06']\n",
      "[194, 2.8203143301652744e-05, 2.7156629585078917e-05, '00:06']\n",
      "[194, 2.8203143301652744e-05, 2.7156629585078917e-05, '00:06']\n",
      "[195, 2.3397971744998358e-05, 2.4476388716720976e-05, '00:06']\n",
      "[195, 2.3397971744998358e-05, 2.4476388716720976e-05, '00:06']\n",
      "[196, 2.1001991626690142e-05, 8.51402000989765e-06, '00:06']\n",
      "[196, 2.1001991626690142e-05, 8.51402000989765e-06, '00:06']\n",
      "[197, 2.4822445993777364e-05, 1.3992172171128914e-05, '00:07']\n",
      "[197, 2.4822445993777364e-05, 1.3992172171128914e-05, '00:07']\n",
      "[198, 2.2594103938899934e-05, 3.80493511329405e-05, '00:07']\n",
      "[198, 2.2594103938899934e-05, 3.80493511329405e-05, '00:07']\n",
      "[199, 2.269234391860664e-05, 2.5678376914584078e-05, '00:05']\n",
      "[199, 2.269234391860664e-05, 2.5678376914584078e-05, '00:05']\n",
      "[200, 2.2852389520267025e-05, 7.025516879366478e-06, '00:06']\n",
      "[200, 2.2852389520267025e-05, 7.025516879366478e-06, '00:06']\n",
      "[201, 2.0498442609095946e-05, 7.574030405521626e-06, '00:08']\n",
      "[201, 2.0498442609095946e-05, 7.574030405521626e-06, '00:08']\n"
     ]
    },
    {
     "name": "stdout",
     "output_type": "stream",
     "text": [
      "[202, 1.752947355271317e-05, 7.046185601211619e-06, '00:05']\n",
      "[202, 1.752947355271317e-05, 7.046185601211619e-06, '00:05']\n",
      "[203, 1.731001611915417e-05, 5.623280230793171e-06, '00:06']\n",
      "[203, 1.731001611915417e-05, 5.623280230793171e-06, '00:06']\n",
      "[204, 1.711974255158566e-05, 9.346897059003823e-06, '00:05']\n",
      "[204, 1.711974255158566e-05, 9.346897059003823e-06, '00:05']\n",
      "[205, 1.4341801033879165e-05, 1.3806744391331449e-05, '00:06']\n",
      "[205, 1.4341801033879165e-05, 1.3806744391331449e-05, '00:06']\n",
      "[206, 1.617956513655372e-05, 1.5360097677330486e-05, '00:04']\n",
      "[206, 1.617956513655372e-05, 1.5360097677330486e-05, '00:04']\n",
      "[207, 1.4092000128584914e-05, 7.687205652473494e-06, '00:05']\n",
      "[207, 1.4092000128584914e-05, 7.687205652473494e-06, '00:05']\n",
      "[208, 1.5815232472959906e-05, 7.928332706796937e-06, '00:09']\n",
      "[208, 1.5815232472959906e-05, 7.928332706796937e-06, '00:09']\n",
      "[209, 1.4343119801196735e-05, 1.449785031581996e-05, '00:09']\n",
      "[209, 1.4343119801196735e-05, 1.449785031581996e-05, '00:09']\n",
      "[210, 1.4989991541369818e-05, 8.356092621397693e-06, '00:09']\n",
      "[210, 1.4989991541369818e-05, 8.356092621397693e-06, '00:09']\n",
      "[211, 1.3893550203647465e-05, 2.91239884973038e-05, '00:12']\n",
      "[211, 1.3893550203647465e-05, 2.91239884973038e-05, '00:12']\n",
      "[212, 1.17137196866679e-05, 1.3975198271509726e-05, '00:06']\n",
      "[212, 1.17137196866679e-05, 1.3975198271509726e-05, '00:06']\n",
      "[213, 1.0303382623533253e-05, 7.753324098302983e-06, '00:16']\n",
      "[213, 1.0303382623533253e-05, 7.753324098302983e-06, '00:16']\n",
      "[214, 9.50579487835057e-06, 7.047695362416562e-06, '00:07']\n",
      "[214, 9.50579487835057e-06, 7.047695362416562e-06, '00:07']\n",
      "[215, 1.0370997188147157e-05, 4.902701220999006e-06, '00:11']\n",
      "[215, 1.0370997188147157e-05, 4.902701220999006e-06, '00:11']\n",
      "[216, 1.0484187441761605e-05, 6.2625535974802915e-06, '00:13']\n",
      "[216, 1.0484187441761605e-05, 6.2625535974802915e-06, '00:13']\n",
      "[217, 1.0770533663162496e-05, 1.0855325854208786e-05, '00:09']\n",
      "[217, 1.0770533663162496e-05, 1.0855325854208786e-05, '00:09']\n",
      "[218, 8.92958814802114e-06, 4.529695161181735e-06, '00:10']\n",
      "[218, 8.92958814802114e-06, 4.529695161181735e-06, '00:10']\n",
      "[219, 9.24053711059969e-06, 1.185092878586147e-05, '00:11']\n",
      "[219, 9.24053711059969e-06, 1.185092878586147e-05, '00:11']\n",
      "[220, 9.276210221287329e-06, 1.823834827519022e-05, '00:08']\n",
      "[220, 9.276210221287329e-06, 1.823834827519022e-05, '00:08']\n",
      "[221, 8.098125363176223e-06, 1.0305734576832037e-05, '00:10']\n",
      "[221, 8.098125363176223e-06, 1.0305734576832037e-05, '00:10']\n",
      "[222, 7.747978088445961e-06, 5.618448085442651e-06, '00:08']\n",
      "[222, 7.747978088445961e-06, 5.618448085442651e-06, '00:08']\n",
      "[223, 7.819758138793986e-06, 8.97471636562841e-06, '00:05']\n",
      "[223, 7.819758138793986e-06, 8.97471636562841e-06, '00:05']\n",
      "[224, 8.158894161169883e-06, 5.812164545204723e-06, '00:24']\n",
      "[224, 8.158894161169883e-06, 5.812164545204723e-06, '00:24']\n",
      "[225, 7.19460467735189e-06, 5.931023679295322e-06, '00:21']\n",
      "[225, 7.19460467735189e-06, 5.931023679295322e-06, '00:21']\n",
      "[226, 7.290597295650514e-06, 8.403697393077891e-06, '00:10']\n",
      "[226, 7.290597295650514e-06, 8.403697393077891e-06, '00:10']\n",
      "[227, 6.0212614698684774e-06, 5.435457296698587e-06, '00:07']\n",
      "[227, 6.0212614698684774e-06, 5.435457296698587e-06, '00:07']\n",
      "[228, 6.214100267243339e-06, 5.363813670555828e-06, '00:05']\n",
      "[228, 6.214100267243339e-06, 5.363813670555828e-06, '00:05']\n",
      "[229, 7.114680101949489e-06, 1.7363952792948112e-05, '00:05']\n",
      "[229, 7.114680101949489e-06, 1.7363952792948112e-05, '00:05']\n",
      "[230, 5.657233032252407e-06, 4.806782726518577e-06, '00:06']\n",
      "[230, 5.657233032252407e-06, 4.806782726518577e-06, '00:06']\n",
      "[231, 6.062767170078587e-06, 4.793393145519076e-06, '00:07']\n",
      "[231, 6.062767170078587e-06, 4.793393145519076e-06, '00:07']\n",
      "[232, 5.649828835885273e-06, 6.737347575835884e-06, '00:04']\n",
      "[232, 5.649828835885273e-06, 6.737347575835884e-06, '00:04']\n",
      "[233, 5.644085376843577e-06, 6.660498911514878e-06, '00:13']\n",
      "[233, 5.644085376843577e-06, 6.660498911514878e-06, '00:13']\n",
      "[234, 5.134028015163494e-06, 4.263131359039107e-06, '00:12']\n",
      "[234, 5.134028015163494e-06, 4.263131359039107e-06, '00:12']\n",
      "[235, 5.315569524100283e-06, 3.348114205437014e-06, '00:10']\n",
      "[235, 5.315569524100283e-06, 3.348114205437014e-06, '00:10']\n",
      "[236, 5.134680577612016e-06, 3.7971526580804493e-06, '00:19']\n",
      "[236, 5.134680577612016e-06, 3.7971526580804493e-06, '00:19']\n",
      "[237, 4.972006991010858e-06, 3.4997442526218947e-06, '00:17']\n",
      "[237, 4.972006991010858e-06, 3.4997442526218947e-06, '00:17']\n",
      "[238, 4.308424195187399e-06, 7.450678367604269e-06, '00:05']\n",
      "[238, 4.308424195187399e-06, 7.450678367604269e-06, '00:05']\n",
      "[239, 4.492168500291882e-06, 3.259958930357243e-06, '00:07']\n",
      "[239, 4.492168500291882e-06, 3.259958930357243e-06, '00:07']\n",
      "[240, 4.085737145942403e-06, 4.4354637793730944e-06, '00:08']\n",
      "[240, 4.085737145942403e-06, 4.4354637793730944e-06, '00:08']\n",
      "[241, 4.537783752311952e-06, 3.69785607290396e-06, '00:07']\n",
      "[241, 4.537783752311952e-06, 3.69785607290396e-06, '00:07']\n",
      "[242, 4.27075065090321e-06, 3.818362529273145e-06, '00:07']\n",
      "[242, 4.27075065090321e-06, 3.818362529273145e-06, '00:07']\n",
      "[243, 4.058752892888151e-06, 4.423840437084436e-06, '00:07']\n",
      "[243, 4.058752892888151e-06, 4.423840437084436e-06, '00:07']\n",
      "[244, 3.749961024368531e-06, 3.402499942239956e-06, '00:08']\n",
      "[244, 3.749961024368531e-06, 3.402499942239956e-06, '00:08']\n",
      "[245, 3.759765149879968e-06, 3.290647100584465e-06, '00:11']\n",
      "[245, 3.759765149879968e-06, 3.290647100584465e-06, '00:11']\n",
      "[246, 3.995893621322466e-06, 3.5115640457661357e-06, '00:07']\n",
      "[246, 3.995893621322466e-06, 3.5115640457661357e-06, '00:07']\n",
      "[247, 3.576576546038268e-06, 3.0581218197767157e-06, '00:12']\n",
      "[247, 3.576576546038268e-06, 3.0581218197767157e-06, '00:12']\n",
      "[248, 3.5901355204259744e-06, 3.81722111342242e-06, '00:14']\n",
      "[248, 3.5901355204259744e-06, 3.81722111342242e-06, '00:14']\n",
      "[249, 3.3293579235760262e-06, 3.4519919154263334e-06, '00:06']\n",
      "[249, 3.3293579235760262e-06, 3.4519919154263334e-06, '00:06']\n",
      "[250, 3.2052764709078474e-06, 3.0868040994391777e-06, '00:08']\n",
      "[250, 3.2052764709078474e-06, 3.0868040994391777e-06, '00:08']\n",
      "[251, 3.3964188332902268e-06, 3.832511538348626e-06, '00:09']\n",
      "[251, 3.3964188332902268e-06, 3.832511538348626e-06, '00:09']\n",
      "[252, 3.3573430755495792e-06, 3.0596720534958877e-06, '00:07']\n",
      "[252, 3.3573430755495792e-06, 3.0596720534958877e-06, '00:07']\n",
      "[253, 3.1589775062457193e-06, 2.772299239950371e-06, '00:07']\n",
      "[253, 3.1589775062457193e-06, 2.772299239950371e-06, '00:07']\n",
      "[254, 3.0973146749602165e-06, 3.0885989872331265e-06, '00:06']\n",
      "[254, 3.0973146749602165e-06, 3.0885989872331265e-06, '00:06']\n",
      "[255, 3.218733581888955e-06, 3.533339167915983e-06, '00:11']\n",
      "[255, 3.218733581888955e-06, 3.533339167915983e-06, '00:11']\n",
      "[256, 3.0654493912152248e-06, 2.8699846552626695e-06, '00:06']\n",
      "[256, 3.0654493912152248e-06, 2.8699846552626695e-06, '00:06']\n",
      "[257, 2.951873966594576e-06, 3.862407083943253e-06, '00:10']\n",
      "[257, 2.951873966594576e-06, 3.862407083943253e-06, '00:10']\n",
      "[258, 3.0317653454403626e-06, 3.3549486033734865e-06, '00:11']\n",
      "[258, 3.0317653454403626e-06, 3.3549486033734865e-06, '00:11']\n",
      "[259, 2.915961204053019e-06, 2.767042133200448e-06, '00:07']\n",
      "[259, 2.915961204053019e-06, 2.767042133200448e-06, '00:07']\n",
      "[260, 3.075040467592771e-06, 3.263135340603185e-06, '00:05']\n",
      "[260, 3.075040467592771e-06, 3.263135340603185e-06, '00:05']\n",
      "[261, 2.8597987693501636e-06, 2.8585880045284284e-06, '00:07']\n",
      "[261, 2.8597987693501636e-06, 2.8585880045284284e-06, '00:07']\n",
      "[262, 2.782504679998965e-06, 2.788106939988211e-06, '00:07']\n",
      "[262, 2.782504679998965e-06, 2.788106939988211e-06, '00:07']\n",
      "[263, 2.7416128887125524e-06, 3.2268887935060775e-06, '00:06']\n",
      "[263, 2.7416128887125524e-06, 3.2268887935060775e-06, '00:06']\n",
      "[264, 2.7058863452111837e-06, 2.9947011626063613e-06, '00:10']\n",
      "[264, 2.7058863452111837e-06, 2.9947011626063613e-06, '00:10']\n",
      "[265, 2.6994180188921746e-06, 2.6764755602926016e-06, '00:13']\n",
      "[265, 2.6994180188921746e-06, 2.6764755602926016e-06, '00:13']\n",
      "[266, 2.5981541966757504e-06, 2.7562152808968676e-06, '00:07']\n",
      "[266, 2.5981541966757504e-06, 2.7562152808968676e-06, '00:07']\n",
      "[267, 2.626458808663301e-06, 2.7083492568635847e-06, '00:07']\n",
      "[267, 2.626458808663301e-06, 2.7083492568635847e-06, '00:07']\n",
      "[268, 2.6226375666738022e-06, 2.7315650186210405e-06, '00:09']\n",
      "[268, 2.6226375666738022e-06, 2.7315650186210405e-06, '00:09']\n"
     ]
    },
    {
     "name": "stdout",
     "output_type": "stream",
     "text": [
      "[269, 2.647649807840935e-06, 2.5708143311931053e-06, '00:09']\n",
      "[269, 2.647649807840935e-06, 2.5708143311931053e-06, '00:09']\n",
      "[270, 2.6447548862051917e-06, 2.6351115138822934e-06, '00:07']\n",
      "[270, 2.6447548862051917e-06, 2.6351115138822934e-06, '00:07']\n",
      "[271, 2.5948413622245425e-06, 2.8161016416561324e-06, '00:06']\n",
      "[271, 2.5948413622245425e-06, 2.8161016416561324e-06, '00:06']\n",
      "[272, 2.5580634428479243e-06, 2.7207865969103295e-06, '00:08']\n",
      "[272, 2.5580634428479243e-06, 2.7207865969103295e-06, '00:08']\n",
      "[273, 2.494229420335614e-06, 2.564036549301818e-06, '00:07']\n",
      "[273, 2.494229420335614e-06, 2.564036549301818e-06, '00:07']\n",
      "[274, 2.5303929760411847e-06, 2.6994691779691493e-06, '00:08']\n",
      "[274, 2.5303929760411847e-06, 2.6994691779691493e-06, '00:08']\n",
      "[275, 2.4863352336979005e-06, 2.5597680632927222e-06, '00:13']\n",
      "[275, 2.4863352336979005e-06, 2.5597680632927222e-06, '00:13']\n",
      "[276, 2.4499986466253176e-06, 2.56480439020379e-06, '00:10']\n",
      "[276, 2.4499986466253176e-06, 2.56480439020379e-06, '00:10']\n",
      "[277, 2.439446689095348e-06, 2.6355423869972583e-06, '00:17']\n",
      "[277, 2.439446689095348e-06, 2.6355423869972583e-06, '00:17']\n",
      "[278, 2.4705634587007808e-06, 2.4750218017288717e-06, '00:09']\n",
      "[278, 2.4705634587007808e-06, 2.4750218017288717e-06, '00:09']\n",
      "[279, 2.4041269170993473e-06, 2.4697492335690185e-06, '00:06']\n",
      "[279, 2.4041269170993473e-06, 2.4697492335690185e-06, '00:06']\n",
      "[280, 2.445781547066872e-06, 2.6809170776687097e-06, '00:11']\n",
      "[280, 2.445781547066872e-06, 2.6809170776687097e-06, '00:11']\n",
      "[281, 2.3983666324056685e-06, 2.4652467800478917e-06, '00:24']\n",
      "[281, 2.3983666324056685e-06, 2.4652467800478917e-06, '00:24']\n",
      "[282, 2.4242660856543807e-06, 2.4697897060832474e-06, '00:05']\n",
      "[282, 2.4242660856543807e-06, 2.4697897060832474e-06, '00:05']\n",
      "[283, 2.405181021458702e-06, 2.5059971449081786e-06, '00:05']\n",
      "[283, 2.405181021458702e-06, 2.5059971449081786e-06, '00:05']\n",
      "[284, 2.3675379452470224e-06, 2.435395572319976e-06, '00:07']\n",
      "[284, 2.3675379452470224e-06, 2.435395572319976e-06, '00:07']\n",
      "[285, 2.3539907942904392e-06, 2.4414966901531443e-06, '00:06']\n",
      "[285, 2.3539907942904392e-06, 2.4414966901531443e-06, '00:06']\n",
      "[286, 2.355192691538832e-06, 2.475181418049033e-06, '00:06']\n",
      "[286, 2.355192691538832e-06, 2.475181418049033e-06, '00:06']\n",
      "[287, 2.3592415345774498e-06, 2.4704411316633923e-06, '00:10']\n",
      "[287, 2.3592415345774498e-06, 2.4704411316633923e-06, '00:10']\n",
      "[288, 2.319532086403342e-06, 2.4434759779978776e-06, '00:07']\n",
      "[288, 2.319532086403342e-06, 2.4434759779978776e-06, '00:07']\n",
      "[289, 2.3419700028171064e-06, 2.4415526240773033e-06, '00:06']\n",
      "[289, 2.3419700028171064e-06, 2.4415526240773033e-06, '00:06']\n",
      "[290, 2.341128492844291e-06, 2.411479499642155e-06, '00:04']\n",
      "[290, 2.341128492844291e-06, 2.411479499642155e-06, '00:04']\n",
      "[291, 2.3210698145703645e-06, 2.4192977434722707e-06, '00:03']\n",
      "[291, 2.3210698145703645e-06, 2.4192977434722707e-06, '00:03']\n",
      "[292, 2.3288503143703565e-06, 2.4047922124736942e-06, '00:04']\n",
      "[292, 2.3288503143703565e-06, 2.4047922124736942e-06, '00:04']\n",
      "[293, 2.3050592972140294e-06, 2.4052556000242475e-06, '00:03']\n",
      "[293, 2.3050592972140294e-06, 2.4052556000242475e-06, '00:03']\n",
      "[294, 2.319087798241526e-06, 2.4053413198998896e-06, '00:03']\n",
      "[294, 2.319087798241526e-06, 2.4053413198998896e-06, '00:03']\n",
      "[295, 2.318708311577211e-06, 2.400319772277726e-06, '00:03']\n",
      "[295, 2.318708311577211e-06, 2.400319772277726e-06, '00:03']\n",
      "[296, 2.3039162897475762e-06, 2.402747895757784e-06, '00:04']\n",
      "[296, 2.3039162897475762e-06, 2.402747895757784e-06, '00:04']\n",
      "[297, 2.2904555407876614e-06, 2.3977720502443844e-06, '00:04']\n",
      "[297, 2.2904555407876614e-06, 2.3977720502443844e-06, '00:04']\n",
      "[298, 2.293575334988418e-06, 2.3975082967808703e-06, '00:04']\n",
      "[298, 2.293575334988418e-06, 2.3975082967808703e-06, '00:04']\n",
      "[299, 2.3056272766552866e-06, 2.3975705971679417e-06, '00:04']\n",
      "[299, 2.3056272766552866e-06, 2.3975705971679417e-06, '00:04']\n",
      "Training took 1923.5077375389992 seconds\n"
     ]
    }
   ],
   "source": [
    "start = time.perf_counter() # Starts timer\n",
    "learn.fit_one_cycle(n_epoch=300)\n",
    "end = time.perf_counter() # Ends timer\n",
    "delta_t = end - start\n",
    "print('Training took', delta_t, 'seconds')"
   ]
  },
  {
   "cell_type": "code",
   "execution_count": 78,
   "metadata": {},
   "outputs": [
    {
     "data": {
      "image/png": "[encoded data removed]",
      "text/plain": [
       "<Figure size 432x288 with 1 Axes>"
      ]
     },
     "metadata": {
      "needs_background": "light"
     },
     "output_type": "display_data"
    }
   ],
   "source": [
    "recorder.plot_loss()"
   ]
  },
  {
   "cell_type": "code",
   "execution_count": 79,
   "metadata": {},
   "outputs": [
    {
     "data": {
      "text/plain": [
       "(#1) [2.3975705971679417e-06]"
      ]
     },
     "execution_count": 79,
     "metadata": {},
     "output_type": "execute_result"
    }
   ],
   "source": [
    "learn.validate()\n"
   ]
  },
  {
   "cell_type": "code",
   "execution_count": null,
   "metadata": {},
   "outputs": [],
   "source": []
  }
 ],
 "metadata": {
  "kernelspec": {
   "display_name": "Python 3",
   "language": "python",
   "name": "python3"
  },
  "language_info": {
   "codemirror_mode": {
    "name": "ipython",
    "version": 3
   },
   "file_extension": ".py",
   "mimetype": "text/x-python",
   "name": "python",
   "nbconvert_exporter": "python",
   "pygments_lexer": "ipython3",
   "version": "3.9.1"
  }
 },
 "nbformat": 4,
 "nbformat_minor": 4
}
